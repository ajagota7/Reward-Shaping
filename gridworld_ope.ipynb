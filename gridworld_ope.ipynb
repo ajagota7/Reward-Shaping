{
  "cells": [
    {
      "cell_type": "markdown",
      "metadata": {
        "id": "view-in-github",
        "colab_type": "text"
      },
      "source": [
        "<a href=\"https://colab.research.google.com/github/ajagota7/Reward-Shaping/blob/main/gridworld_ope.ipynb\" target=\"_parent\"><img src=\"https://colab.research.google.com/assets/colab-badge.svg\" alt=\"Open In Colab\"/></a>"
      ]
    },
    {
      "cell_type": "markdown",
      "metadata": {
        "id": "bt3QR_86NGdz"
      },
      "source": [
        "# Creating Environment"
      ]
    },
    {
      "cell_type": "code",
      "execution_count": 5,
      "metadata": {
        "id": "-Ww-v9JI2Hhj"
      },
      "outputs": [],
      "source": [
        "class GridWorld:\n",
        "    def __init__(self, height, width, start, end, bad_regions, good_regions, good_region_rewards, bad_region_rewards, final_reward):\n",
        "        self.height = height\n",
        "        self.width = width\n",
        "        self.start = start\n",
        "        self.end = end\n",
        "        self.bad_regions = bad_regions\n",
        "        self.good_regions = good_regions\n",
        "        self.good_region_rewards = good_region_rewards\n",
        "        self.bad_region_rewards = bad_region_rewards\n",
        "        self.final_reward = final_reward\n",
        "\n",
        "    def reset(self):\n",
        "        self.agent_position = self.start\n",
        "\n",
        "    def step(self, action):\n",
        "        x, y = self.agent_position\n",
        "\n",
        "        if action == \"up\" and y < self.height - 1:\n",
        "            y += 1\n",
        "        elif action == \"down\" and y > 0:\n",
        "            y -= 1\n",
        "        elif action == \"left\" and x > 0:\n",
        "            x -= 1\n",
        "        elif action == \"right\" and x < self.width - 1:\n",
        "            x += 1\n",
        "\n",
        "        self.agent_position = (x, y)\n",
        "\n",
        "        if self.agent_position == self.end:\n",
        "            reward = self.final_reward\n",
        "            done = True\n",
        "        elif self.agent_position in self.bad_regions:\n",
        "            reward = self.bad_region_rewards\n",
        "            done = False\n",
        "        elif self.agent_position in self.good_regions:\n",
        "            reward = self.good_region_rewards\n",
        "            done = False\n",
        "        else:\n",
        "            reward = 0\n",
        "            done = False\n",
        "\n",
        "        return (x, y), reward, done\n"
      ]
    },
    {
      "cell_type": "code",
      "execution_count": 6,
      "metadata": {
        "id": "HQACkJ1xWBoE"
      },
      "outputs": [],
      "source": [
        "import numpy as np\n",
        "\n",
        "class Agent:\n",
        "    def __init__(self, epsilon=0.0):\n",
        "        self.epsilon = epsilon\n",
        "\n",
        "    def select_action(self, policy_func):\n",
        "        if np.random.uniform() < self.epsilon:\n",
        "            # Choose a random action\n",
        "            action = np.random.choice([\"up\", \"down\", \"left\", \"right\"])\n",
        "        else:\n",
        "            # Use the provided policy function to get the best action\n",
        "            action = policy_func()\n",
        "        return action\n",
        "\n",
        "# Define different policy functions outside the class\n",
        "\n",
        "def random_policy():\n",
        "    # Choose a random action\n",
        "    return np.random.choice([\"up\", \"down\", \"left\", \"right\"])\n",
        "\n",
        "# def behavior_policy(behav_policy):\n",
        "#     action_probs = behav_policy\n",
        "#     return np.random.choice(list(action_probs.keys()), p=list(action_probs.values()))\n",
        "\n",
        "# def evaluation_policy(eval_policy):\n",
        "#     action_probs = eval_policy\n",
        "#     return np.random.choice(list(action_probs.keys()), p=list(action_probs.values()))\n",
        "\n",
        "def run_policy(policy):\n",
        "    action_probs = policy\n",
        "    return np.random.choice(list(action_probs.keys()), p=list(action_probs.values()))\n",
        "\n",
        "\n",
        "def manhattan_distance(pos1, pos2):\n",
        "    # Compute the Manhattan distance between two positions\n",
        "    return abs(pos1[0] - pos2[0]) + abs(pos1[1] - pos2[1])\n",
        "\n",
        "eval_policy = {\"up\": 0.4, \"down\": 0.1, \"left\": 0.1, \"right\": 0.4}\n",
        "behav_policy = {\"up\": 0.25, \"down\": 0.25, \"left\": 0.25, \"right\": 0.25}"
      ]
    },
    {
      "cell_type": "markdown",
      "metadata": {
        "id": "GipigR-ZNTo6"
      },
      "source": [
        "# Generating Policy data"
      ]
    },
    {
      "cell_type": "code",
      "source": [
        "# Gridworld environment\n",
        "height = 5\n",
        "width  = 5\n",
        "start = (0,0)\n",
        "end = (4,4)"
      ],
      "metadata": {
        "id": "5ActZ0YInJCE"
      },
      "execution_count": 7,
      "outputs": []
    },
    {
      "cell_type": "code",
      "execution_count": 9,
      "metadata": {
        "id": "IgfscYWMW0XS"
      },
      "outputs": [],
      "source": [
        "def create_policy_set(env, policy_func, policy, num_episodes):\n",
        "  # Create a list to store policies as trajectories\n",
        "  policies = []\n",
        "\n",
        "  # Run multiple episodes\n",
        "  for episode in range(num_episodes):\n",
        "      # Create a new Agent for each episode to generate a different policy\n",
        "      agent = Agent(epsilon=0.0)\n",
        "\n",
        "      # Run an episode\n",
        "      env.reset()\n",
        "      done = False\n",
        "      trajectory = []  # Store the trajectory for the current episode\n",
        "      cumulative_reward = 0.0  # Initialize cumulative reward\n",
        "      while not done:\n",
        "          state = env.agent_position  # Get the current state\n",
        "          action = agent.select_action(lambda: policy_func(policy))\n",
        "          next_state, reward, done = env.step(action)\n",
        "\n",
        "          # Compute cumulative reward\n",
        "          cumulative_reward += reward\n",
        "\n",
        "          # Compute feature function values (manhattan distances)\n",
        "          good_region_distances = [manhattan_distance(state, gr) for gr in env.good_regions]\n",
        "          bad_region_distances = [manhattan_distance(state, br) for br in env.bad_regions]\n",
        "\n",
        "          # Store the (state, action, reward, next_state) tuple in the trajectory\n",
        "          trajectory.append((state, action, reward, next_state, cumulative_reward, good_region_distances, bad_region_distances))\n",
        "\n",
        "      # Append the trajectory to the policies list\n",
        "      policies.append(trajectory)\n",
        "\n",
        "  return policies\n"
      ]
    },
    {
      "cell_type": "code",
      "source": [
        "def calc_V_pi_e(evaluation_policies):\n",
        "\n",
        "  total_cumulative_reward = 0.0\n",
        "\n",
        "  for episode_trajectory in evaluation_policies:\n",
        "      total_cumulative_reward += episode_trajectory[-1][4]\n",
        "\n",
        "  return total_cumulative_reward/len(evaluation_policies)"
      ],
      "metadata": {
        "id": "v0rRjUcUf4Tv"
      },
      "execution_count": 10,
      "outputs": []
    },
    {
      "cell_type": "markdown",
      "source": [
        "# Saving and Loading Data"
      ],
      "metadata": {
        "id": "3UdUjHYmPsZl"
      }
    },
    {
      "cell_type": "code",
      "source": [
        "def filename(env, behav_policy, eval_policy, num_episodes, train_split):\n",
        "    good_regions_str = \"_\".join([f\"gr_{pos[0]}_{pos[1]}\" for pos in env.good_regions])\n",
        "    bad_regions_str = \"_\".join([f\"br_{pos[0]}_{pos[1]}\" for pos in env.bad_regions])\n",
        "\n",
        "    behav_probs_str = \"_\".join([f\"{prob:.2f}\" for prob in behav_policy.values()])\n",
        "    eval_probs_str = \"_\".join([f\"{prob:.2f}\" for prob in eval_policy.values()])\n",
        "\n",
        "    file = f\"behav_{behav_probs_str}_eval_{eval_probs_str}_{good_regions_str}_{env.good_region_rewards}_{bad_regions_str}_{env.bad_region_rewards}_trajectories_{num_episodes}_train_split_{train_split}.txt\"\n",
        "    return file"
      ],
      "metadata": {
        "id": "xyuwU_kjU8xp"
      },
      "execution_count": 11,
      "outputs": []
    },
    {
      "cell_type": "code",
      "source": [
        "# def filename(env, behav_policy, eval_policy, num_episodes, train_split):\n",
        "#   good_regions_str = \"_\".join([f\"gr_{pos[0]}_{pos[1]}\" for pos in env.good_regions])\n",
        "#   bad_regions_str = \"_\".join([f\"br_{pos[0]}_{pos[1]}\" for pos in env.bad_regions])\n",
        "#   file = f\"{policy.__name__}_{good_regions_str}_{env.good_region_rewards}_{bad_regions_str}_{env.bad_region_rewards}_trajectories_{num_episodes}_train_split_{train_split}.txt\"\n",
        "#   return file"
      ],
      "metadata": {
        "id": "6nUi8aT9aHwN"
      },
      "execution_count": 48,
      "outputs": []
    },
    {
      "cell_type": "code",
      "source": [
        "# filename(env, behavior_policy, 1000)"
      ],
      "metadata": {
        "colab": {
          "base_uri": "https://localhost:8080/",
          "height": 36
        },
        "id": "4QGAMsoqaZpX",
        "outputId": "8bf5fd34-40b5-4864-e660-591c9e215fb7"
      },
      "execution_count": 49,
      "outputs": [
        {
          "output_type": "execute_result",
          "data": {
            "text/plain": [
              "'behavior_policy_gr_3_3_0.5_br_1_1_br_2_2_-1_trajectories_1000.txt'"
            ],
            "application/vnd.google.colaboratory.intrinsic+json": {
              "type": "string"
            }
          },
          "metadata": {},
          "execution_count": 49
        }
      ]
    },
    {
      "cell_type": "code",
      "source": [
        "from google.colab import drive\n",
        "drive.mount('/content/drive')\n"
      ],
      "metadata": {
        "colab": {
          "base_uri": "https://localhost:8080/"
        },
        "id": "Tub26M0SkDKB",
        "outputId": "60feb647-b02e-46e7-8d0e-4e6e8b23736e"
      },
      "execution_count": 1,
      "outputs": [
        {
          "output_type": "stream",
          "name": "stdout",
          "text": [
            "Drive already mounted at /content/drive; to attempt to forcibly remount, call drive.mount(\"/content/drive\", force_remount=True).\n"
          ]
        }
      ]
    },
    {
      "cell_type": "code",
      "source": [
        "import os\n",
        "\n",
        "# Define the path to your desired folder\n",
        "folder_path = '/content/drive/MyDrive/gridworld_OPE_experiments'\n",
        "\n",
        "# Change the working directory to the specified folder\n",
        "os.chdir(folder_path)\n"
      ],
      "metadata": {
        "id": "pM1h_YzNk6F3"
      },
      "execution_count": 2,
      "outputs": []
    },
    {
      "cell_type": "code",
      "source": [
        "import glob\n",
        "\n",
        "\n",
        "# Change the working directory to the specified folder\n",
        "os.chdir(folder_path)\n",
        "\n",
        "# List all files (excluding subdirectories) in the folder\n",
        "files = glob.glob('*')\n",
        "print(files)\n"
      ],
      "metadata": {
        "colab": {
          "base_uri": "https://localhost:8080/"
        },
        "id": "WwmHEsdnlZdW",
        "outputId": "884cef50-3f8f-48f8-8a20-1a845e31873e"
      },
      "execution_count": 12,
      "outputs": [
        {
          "output_type": "stream",
          "name": "stdout",
          "text": [
            "['behav_0.25_0.25_0.25_0.25_eval_0.40_0.10_0.10_0.40__0.5_br_1_1_br_2_2_-2_trajectories_200_train_split_0.3.txt', 'behav_0.25_0.25_0.25_0.25_eval_0.40_0.10_0.10_0.40__0.5_br_1_1_br_2_2_-2_trajectories_400_train_split_0.3.txt', 'behav_0.25_0.25_0.25_0.25_eval_0.40_0.10_0.10_0.40__0.5_br_1_1_br_2_2_-2_trajectories_600_train_split_0.3.txt', 'behav_0.25_0.25_0.25_0.25_eval_0.40_0.10_0.10_0.40__0.5_br_1_1_br_2_2_-2_trajectories_800_train_split_0.3.txt', 'behav_0.25_0.25_0.25_0.25_eval_0.40_0.10_0.10_0.40__0.5_br_1_1_br_2_2_-2_trajectories_1000_train_split_0.3.txt', 'behav_0.25_0.25_0.25_0.25_eval_0.40_0.10_0.10_0.40__0.5_br_2_2_-2_trajectories_200_train_split_0.3.txt', 'behav_0.25_0.25_0.25_0.25_eval_0.40_0.10_0.10_0.40__0.5_br_2_2_-2_trajectories_400_train_split_0.3.txt', 'behav_0.25_0.25_0.25_0.25_eval_0.40_0.10_0.10_0.40__0.5_br_2_2_-2_trajectories_1000_train_split_0.3.txt', 'behav_0.25_0.25_0.25_0.25_eval_0.40_0.10_0.10_0.40__0.5_br_2_2_-2_trajectories_600_train_split_0.3.txt', 'behav_0.25_0.25_0.25_0.25_eval_0.40_0.10_0.10_0.40__0.5_br_2_2_-2_trajectories_800_train_split_0.3.txt']\n"
          ]
        }
      ]
    },
    {
      "cell_type": "code",
      "source": [
        "import pickle\n",
        "\n",
        "def save_data_to_file(data, filename):\n",
        "    with open(filename, 'wb') as file:\n",
        "        pickle.dump(data, file)\n",
        "\n",
        "def load_data_from_file(filename):\n",
        "    with open(filename, 'rb') as file:\n",
        "        data = pickle.load(file)\n",
        "    return data\n"
      ],
      "metadata": {
        "id": "CfI_8J51Pwer"
      },
      "execution_count": 13,
      "outputs": []
    },
    {
      "cell_type": "markdown",
      "metadata": {
        "id": "MkhpULigM6wI"
      },
      "source": [
        "# Training Reward Models (Ignore this section for now)"
      ]
    },
    {
      "cell_type": "markdown",
      "metadata": {
        "id": "cpyIPQCnIBAO"
      },
      "source": [
        "## State -> Reward"
      ]
    },
    {
      "cell_type": "markdown",
      "metadata": {
        "id": "iPOWRWObYB7R"
      },
      "source": [
        "Training model to predict rewards based on state only"
      ]
    },
    {
      "cell_type": "code",
      "execution_count": null,
      "metadata": {
        "id": "zcB-vIWj2V8r"
      },
      "outputs": [],
      "source": [
        "import tensorflow as tf\n",
        "import numpy as np\n",
        "\n",
        "# Step 1: Prepare the data\n",
        "# behavior_policies = [...]  # Replace [...] with your actual behavior_policies list\n",
        "\n",
        "# Initialize lists to store all 'next_state' and 'reward' values\n",
        "all_next_states = []\n",
        "all_rewards = []\n",
        "\n",
        "# Extract the 'next_state' and 'reward' from the 'behavior_policies' list\n",
        "for trajectory in behavior_policies:\n",
        "    # For each trajectory, extract all 'next_state' and 'reward' values\n",
        "    next_states = [state_action_reward[3] for state_action_reward in trajectory]\n",
        "    rewards = [state_action_reward[2] for state_action_reward in trajectory]\n",
        "\n",
        "    # Append the values to the corresponding lists\n",
        "    all_next_states.extend(next_states)\n",
        "    all_rewards.extend(rewards)\n",
        "\n",
        "# Convert 'next_states' and 'rewards' into appropriate formats for training\n",
        "all_next_states = np.array(all_next_states, dtype=np.float32)\n",
        "all_rewards = np.array(all_rewards, dtype=np.float32)\n",
        "\n",
        "# Now, 'all_next_states' contains all the 'next_state' values, and 'all_rewards' contains all the corresponding rewards.\n"
      ]
    },
    {
      "cell_type": "code",
      "execution_count": null,
      "metadata": {
        "id": "ZPnb1zoYE3N3"
      },
      "outputs": [],
      "source": [
        "# Step 2: Design the neural network\n",
        "class RewardPredictorStates(tf.keras.Model):\n",
        "    def __init__(self, input_shape):\n",
        "        super(RewardPredictorStates, self).__init__()\n",
        "        self.dense1 = tf.keras.layers.Dense(32, activation='relu')\n",
        "        self.dense2 = tf.keras.layers.Dense(1)\n",
        "\n",
        "    def call(self, inputs):\n",
        "        x = self.dense1(inputs)\n",
        "        x = self.dense2(x)\n",
        "        return x\n",
        "\n",
        "# Define hyperparameters for the neural network\n",
        "input_shape = all_next_states.shape[1:]  # Shape of the input state (excluding batch size)\n",
        "learning_rate = 0.005\n",
        "num_epochs = 1000\n",
        "batch_size = 32\n",
        "\n",
        "# Create the neural network\n",
        "reward_predictor_states = RewardPredictorStates(input_shape)\n",
        "\n",
        "# Compile the model\n",
        "reward_predictor_states.compile(optimizer=tf.keras.optimizers.Adam(learning_rate),\n",
        "                         loss='mean_squared_error')\n",
        "\n",
        "# Step 3: Train the neural network with early stopping\n",
        "callbacks = [\n",
        "    tf.keras.callbacks.EarlyStopping(patience=10, monitor='val_loss', restore_best_weights=True)\n",
        "]\n",
        "\n",
        "reward_predictor_states.fit(\n",
        "    all_next_states, all_rewards,\n",
        "    batch_size=batch_size, epochs=num_epochs,\n",
        "    callbacks=callbacks, validation_split=0.2, verbose=1\n",
        ")"
      ]
    },
    {
      "cell_type": "code",
      "execution_count": null,
      "metadata": {
        "colab": {
          "base_uri": "https://localhost:8080/"
        },
        "id": "0KaLPE-xb2e0",
        "outputId": "230b8ee6-0a6f-46a1-adcd-45f52ac7becf"
      },
      "outputs": [
        {
          "name": "stdout",
          "output_type": "stream",
          "text": [
            "1/1 [==============================] - 0s 20ms/step\n",
            "Predicted Reward Current State: -0.03829813\n",
            "1/1 [==============================] - 0s 20ms/step\n",
            "Predicted Reward Next State: -0.006269932\n"
          ]
        }
      ],
      "source": [
        "current_state = behavior_policies[0][5][0]\n",
        "current_state = np.array(current_state, dtype=np.float32)\n",
        "predicted_reward_current = reward_predictor_states.predict(np.expand_dims(current_state, axis=0))\n",
        "print(\"Predicted Reward Current State:\", predicted_reward_current[0, 0])\n",
        "\n",
        "new_state = behavior_policies[0][5][3]  # Replace ... with the new state for which you want to predict the reward\n",
        "new_state = np.array(new_state, dtype=np.float32)\n",
        "predicted_reward_next = reward_predictor_states.predict(np.expand_dims(new_state, axis=0))\n",
        "print(\"Predicted Reward Next State:\", predicted_reward_next[0, 0])"
      ]
    },
    {
      "cell_type": "markdown",
      "metadata": {
        "id": "K7rtgAXVINap"
      },
      "source": [
        "## State -> Cumulative Reward"
      ]
    },
    {
      "cell_type": "markdown",
      "metadata": {
        "id": "f79jQoF-tQXR"
      },
      "source": [
        "Reward model based on State -> Cumulative Rewards"
      ]
    },
    {
      "cell_type": "code",
      "execution_count": null,
      "metadata": {
        "id": "qfr9e-LRtUEj"
      },
      "outputs": [],
      "source": [
        "import tensorflow as tf\n",
        "import numpy as np\n",
        "\n",
        "# Step 1: Prepare the data\n",
        "# behavior_policies = [...]  # Replace [...] with your actual behavior_policies list\n",
        "\n",
        "# Initialize lists to store all 'next_state' and 'reward' values\n",
        "all_next_states = []\n",
        "all_cum_rewards = []\n",
        "\n",
        "# Extract the 'next_state' and 'reward' from the 'behavior_policies' list\n",
        "for trajectory in behavior_policies:\n",
        "    # For each trajectory, extract all 'next_state' and 'reward' values\n",
        "    next_states = [state_action_reward[3] for state_action_reward in trajectory]\n",
        "    cum_rewards = [state_action_reward[4] for state_action_reward in trajectory]\n",
        "\n",
        "    # Append the values to the corresponding lists\n",
        "    all_next_states.extend(next_states)\n",
        "    all_cum_rewards.extend(cum_rewards)\n",
        "\n",
        "# Convert 'next_states' and 'rewards' into appropriate formats for training\n",
        "all_next_states = np.array(all_next_states, dtype=np.float32)\n",
        "all_cum_rewards = np.array(all_cum_rewards, dtype=np.float32)\n",
        "\n",
        "# Now, 'all_next_states' contains all the 'next_state' values, and 'all_rewards' contains all the corresponding rewards.\n"
      ]
    },
    {
      "cell_type": "code",
      "execution_count": null,
      "metadata": {
        "id": "VBE4eg3xtpYa"
      },
      "outputs": [],
      "source": [
        "# Step 2: Design the neural network\n",
        "# import tensorflow as tf\n",
        "\n",
        "class RewardPredictorCumulative(tf.keras.Model):\n",
        "    def __init__(self, input_shape):\n",
        "        super(RewardPredictorCumulative, self).__init__()\n",
        "        self.dense1 = tf.keras.layers.Dense(128, activation='relu', kernel_initializer='he_normal', kernel_regularizer=tf.keras.regularizers.l2(0.01))\n",
        "        self.batch_norm1 = tf.keras.layers.BatchNormalization()\n",
        "        self.dense2 = tf.keras.layers.Dense(64, activation='relu', kernel_initializer='he_normal', kernel_regularizer=tf.keras.regularizers.l2(0.01))\n",
        "        self.batch_norm2 = tf.keras.layers.BatchNormalization()\n",
        "        self.dense3 = tf.keras.layers.Dense(1, kernel_initializer='he_normal')\n",
        "\n",
        "    def call(self, inputs):\n",
        "        x = self.dense1(inputs)\n",
        "        x = self.batch_norm1(x)\n",
        "        x = self.dense2(x)\n",
        "        x = self.batch_norm2(x)\n",
        "        x = self.dense3(x)\n",
        "        return x\n",
        "\n",
        "\n",
        "# Define hyperparameters for the neural network\n",
        "input_shape = all_next_states.shape[1:]  # Shape of the input state (excluding batch size)\n",
        "learning_rate = 0.0001\n",
        "num_epochs = 1000\n",
        "batch_size = 32\n",
        "\n",
        "# Create the neural network\n",
        "reward_predictor_cumulative = RewardPredictorCumulative(input_shape)\n",
        "\n",
        "# Compile the model\n",
        "reward_predictor_cumulative.compile(optimizer=tf.keras.optimizers.Adam(learning_rate),\n",
        "                         loss='mean_squared_error')\n",
        "\n",
        "# Step 3: Train the neural network with early stopping\n",
        "callbacks = [\n",
        "    tf.keras.callbacks.EarlyStopping(patience=10, monitor='val_loss', restore_best_weights=True)\n",
        "]\n",
        "\n",
        "reward_predictor_cumulative.fit(\n",
        "    all_next_states, all_cum_rewards,\n",
        "    batch_size=batch_size, epochs=num_epochs,\n",
        "    callbacks=callbacks, validation_split=0.2, verbose=1\n",
        ")"
      ]
    },
    {
      "cell_type": "markdown",
      "metadata": {
        "id": "JdFBS44nIUn_"
      },
      "source": [
        "## State -> Rewards over past 3 timesteps"
      ]
    },
    {
      "cell_type": "markdown",
      "metadata": {
        "id": "wIkOPgG07ffz"
      },
      "source": [
        "Cumulative rewards over 3 timesteps"
      ]
    },
    {
      "cell_type": "code",
      "execution_count": null,
      "metadata": {
        "id": "QlBb0H0NSYDz"
      },
      "outputs": [],
      "source": [
        "# Discounted sum\n",
        "# Create a new list to store trajectories with the new data\n",
        "augmented_behavior_policies = []\n",
        "\n",
        "# Set the discount factor (gamma)\n",
        "discount_factor = 0.9  # You can adjust this value as needed (usually between 0 and 1)\n",
        "\n",
        "# Iterate through each trajectory in behavior_policies\n",
        "for trajectory in behavior_policies:\n",
        "    num_timesteps = len(trajectory)\n",
        "    new_trajectory = []\n",
        "\n",
        "    # Iterate through each timestep in the trajectory\n",
        "    for t in range(num_timesteps):\n",
        "        # Calculate the discounted sum of the past 3 rewards for the past 3 timesteps\n",
        "        discounted_sum = 0.0\n",
        "        for i in range(1, min(4, t + 1)):\n",
        "            discounted_sum += (discount_factor ** (i - 1)) * trajectory[t - i][2]\n",
        "\n",
        "        # Update the trajectory to include only the discounted sum of the past 3 rewards\n",
        "        state, action, reward, next_state, cumulative_reward, good_prox, bad_prox = trajectory[t]\n",
        "        new_trajectory.append((state, discounted_sum, action, reward, next_state, cumulative_reward))\n",
        "\n",
        "    # Append the modified trajectory to the augmented_behavior_policies list\n",
        "    augmented_behavior_policies.append(new_trajectory)\n"
      ]
    },
    {
      "cell_type": "code",
      "execution_count": null,
      "metadata": {
        "id": "06vVUBLO23-Y"
      },
      "outputs": [],
      "source": [
        "# Discounted sum\n",
        "# Create a new list to store trajectories with the new data\n",
        "augmented_evaluation_policies = []\n",
        "\n",
        "# Set the discount factor (gamma)\n",
        "discount_factor = 0.9  # You can adjust this value as needed (usually between 0 and 1)\n",
        "\n",
        "# Iterate through each trajectory in evaluation_policies\n",
        "for trajectory in evaluation_policies:\n",
        "    num_timesteps = len(trajectory)\n",
        "    new_trajectory = []\n",
        "\n",
        "    # Iterate through each timestep in the trajectory\n",
        "    for t in range(num_timesteps):\n",
        "        # Calculate the discounted sum of the past 3 rewards for the past 3 timesteps\n",
        "        discounted_sum = 0.0\n",
        "        for i in range(1, min(4, t + 1)):\n",
        "            discounted_sum += (discount_factor ** (i - 1)) * trajectory[t - i][2]\n",
        "\n",
        "        # Update the trajectory to include only the discounted sum of the past 3 rewards\n",
        "        state, action, reward, next_state, cumulative_reward, good_prox. bad_prox = trajectory[t]\n",
        "        new_trajectory.append((state, discounted_sum, action, reward, next_state, cumulative_reward))\n",
        "\n",
        "    # Append the modified trajectory to the augmented_evaluation_policies list\n",
        "    augmented_evaluation_policies.append(new_trajectory)\n"
      ]
    },
    {
      "cell_type": "code",
      "execution_count": null,
      "metadata": {
        "id": "Pngt7A8eLoOl"
      },
      "outputs": [],
      "source": [
        "import tensorflow as tf\n",
        "import numpy as np\n",
        "\n",
        "# Step 1: Prepare the data\n",
        "def preprocess_nstep_data(policy_data):\n",
        "  # Initialize lists to store all 'next_state' and 'reward' values\n",
        "  all_next_states = []\n",
        "  all_past3_rewards = []\n",
        "\n",
        "  # Extract the 'next_state' and 'reward' from the 'behavior_policies' list\n",
        "  for trajectory in policy_data:\n",
        "      # For each trajectory, extract all 'next_state' and 'reward' values\n",
        "      next_states = [state_action_reward[4] for state_action_reward in trajectory]\n",
        "      rewards = [state_action_reward[3] for state_action_reward in trajectory]\n",
        "\n",
        "      # Append the values to the corresponding lists\n",
        "      all_next_states.extend(next_states)\n",
        "      all_past3_rewards.extend(rewards)\n",
        "\n",
        "  # Convert 'next_states' and 'rewards' into appropriate formats for training\n",
        "  all_next_states = np.array(all_next_states, dtype=np.float32)\n",
        "  all_past3_rewards = np.array(all_past3_rewards, dtype=np.float32)\n",
        "  return all_next_states, all_past3_rewards"
      ]
    },
    {
      "cell_type": "code",
      "execution_count": null,
      "metadata": {
        "id": "XCAp1fg2LUfU"
      },
      "outputs": [],
      "source": [
        "# Step 2: Design the neural network\n",
        "class RewardPredictor3States(tf.keras.Model):\n",
        "    def __init__(self, input_shape):\n",
        "        super(RewardPredictor3States, self).__init__()\n",
        "        self.dense1 = tf.keras.layers.Dense(32, activation='relu')\n",
        "        self.dense2 = tf.keras.layers.Dense(1)\n",
        "\n",
        "    def call(self, inputs):\n",
        "        x = self.dense1(inputs)\n",
        "        x = self.dense2(x)\n",
        "        return x\n"
      ]
    },
    {
      "cell_type": "code",
      "execution_count": null,
      "metadata": {
        "colab": {
          "base_uri": "https://localhost:8080/"
        },
        "id": "frcPgL555yen",
        "outputId": "86b058ae-b14a-478b-f0c1-2ac4d03875b3"
      },
      "outputs": [
        {
          "name": "stdout",
          "output_type": "stream",
          "text": [
            "Epoch 1/1000\n",
            "541/541 [==============================] - 2s 2ms/step - loss: 0.1163 - val_loss: 0.0807\n",
            "Epoch 2/1000\n",
            "541/541 [==============================] - 1s 2ms/step - loss: 0.0498 - val_loss: 0.0302\n",
            "Epoch 3/1000\n",
            "541/541 [==============================] - 1s 2ms/step - loss: 0.0184 - val_loss: 0.0124\n",
            "Epoch 4/1000\n",
            "541/541 [==============================] - 1s 2ms/step - loss: 0.0085 - val_loss: 0.0050\n",
            "Epoch 5/1000\n",
            "541/541 [==============================] - 1s 2ms/step - loss: 0.0036 - val_loss: 0.0026\n",
            "Epoch 6/1000\n",
            "541/541 [==============================] - 1s 2ms/step - loss: 0.0015 - val_loss: 0.0013\n",
            "Epoch 7/1000\n",
            "541/541 [==============================] - 1s 2ms/step - loss: 8.8721e-04 - val_loss: 6.9921e-04\n",
            "Epoch 8/1000\n",
            "541/541 [==============================] - 1s 2ms/step - loss: 5.3470e-04 - val_loss: 2.7174e-04\n",
            "Epoch 9/1000\n",
            "541/541 [==============================] - 1s 2ms/step - loss: 3.5016e-04 - val_loss: 4.5576e-04\n",
            "Epoch 10/1000\n",
            "541/541 [==============================] - 1s 2ms/step - loss: 2.8726e-04 - val_loss: 3.1336e-04\n",
            "Epoch 11/1000\n",
            "541/541 [==============================] - 1s 2ms/step - loss: 2.3167e-04 - val_loss: 2.8632e-04\n",
            "Epoch 12/1000\n",
            "541/541 [==============================] - 1s 2ms/step - loss: 2.0322e-04 - val_loss: 1.9239e-04\n",
            "Epoch 13/1000\n",
            "541/541 [==============================] - 1s 2ms/step - loss: 2.2741e-04 - val_loss: 1.2284e-04\n",
            "Epoch 14/1000\n",
            "541/541 [==============================] - 1s 2ms/step - loss: 1.3022e-04 - val_loss: 2.0752e-04\n",
            "Epoch 15/1000\n",
            "541/541 [==============================] - 1s 2ms/step - loss: 7.6412e-04 - val_loss: 2.0257e-05\n",
            "Epoch 16/1000\n",
            "541/541 [==============================] - 1s 2ms/step - loss: 5.0789e-06 - val_loss: 6.2865e-07\n",
            "Epoch 17/1000\n",
            "541/541 [==============================] - 1s 2ms/step - loss: 7.2175e-05 - val_loss: 6.4133e-05\n",
            "Epoch 18/1000\n",
            "541/541 [==============================] - 1s 2ms/step - loss: 6.5053e-04 - val_loss: 6.7341e-05\n",
            "Epoch 19/1000\n",
            "541/541 [==============================] - 1s 2ms/step - loss: 2.5021e-04 - val_loss: 4.7176e-05\n",
            "Epoch 20/1000\n",
            "541/541 [==============================] - 1s 2ms/step - loss: 2.8386e-04 - val_loss: 9.6860e-05\n",
            "Epoch 21/1000\n",
            "541/541 [==============================] - 1s 2ms/step - loss: 1.8277e-04 - val_loss: 1.4178e-04\n",
            "Epoch 22/1000\n",
            "541/541 [==============================] - 1s 2ms/step - loss: 3.4954e-04 - val_loss: 4.4968e-05\n",
            "Epoch 23/1000\n",
            "541/541 [==============================] - 1s 2ms/step - loss: 6.9865e-05 - val_loss: 2.5360e-04\n",
            "Epoch 24/1000\n",
            "541/541 [==============================] - 1s 2ms/step - loss: 2.9564e-04 - val_loss: 1.2803e-04\n",
            "Epoch 25/1000\n",
            "541/541 [==============================] - 1s 3ms/step - loss: 6.9617e-05 - val_loss: 2.7309e-06\n",
            "Epoch 26/1000\n",
            "541/541 [==============================] - 1s 2ms/step - loss: 4.5949e-04 - val_loss: 5.9128e-06\n"
          ]
        },
        {
          "data": {
            "text/plain": [
              "<keras.callbacks.History at 0x7bc0d40ae080>"
            ]
          },
          "execution_count": 12,
          "metadata": {},
          "output_type": "execute_result"
        }
      ],
      "source": [
        "# Behavior policies training\n",
        "all_next_states_behav, all_past3_rewards_behav = preprocess_nstep_data(augmented_behavior_policies)\n",
        "\n",
        "# Define hyperparameters for the neural network\n",
        "input_shape = all_next_states_behav.shape[1:]  # Shape of the input state (excluding batch size)\n",
        "learning_rate = 0.005\n",
        "num_epochs = 1000\n",
        "batch_size = 32\n",
        "\n",
        "# Create the neural network\n",
        "reward_predictor_3states = RewardPredictor3States(input_shape)\n",
        "\n",
        "# Compile the model\n",
        "reward_predictor_3states.compile(optimizer=tf.keras.optimizers.Adam(learning_rate),\n",
        "                         loss='mean_squared_error')\n",
        "\n",
        "# Step 3: Train the neural network with early stopping\n",
        "callbacks = [\n",
        "    tf.keras.callbacks.EarlyStopping(patience=10, monitor='val_loss', restore_best_weights=True)\n",
        "]\n",
        "\n",
        "reward_predictor_3states.fit(\n",
        "    all_next_states_behav, all_past3_rewards_behav,\n",
        "    batch_size=batch_size, epochs=num_epochs,\n",
        "    callbacks=callbacks, validation_split=0.2, verbose=1\n",
        ")"
      ]
    },
    {
      "cell_type": "code",
      "execution_count": null,
      "metadata": {
        "colab": {
          "base_uri": "https://localhost:8080/"
        },
        "id": "WeNydEaSIz6v",
        "outputId": "848f8b86-c1f0-4100-d492-4fd8fe3e64b4"
      },
      "outputs": [
        {
          "name": "stdout",
          "output_type": "stream",
          "text": [
            "1/1 [==============================] - 0s 23ms/step\n",
            "Predicted Reward Current State: 0.0006133178\n"
          ]
        }
      ],
      "source": [
        "current_state = [2,3]\n",
        "current_state = np.array(current_state, dtype=np.float32)\n",
        "predicted_reward_current = reward_predictor_3states.predict(np.expand_dims(current_state, axis=0))\n",
        "print(\"Predicted Reward Current State:\", predicted_reward_current[0, 0])"
      ]
    },
    {
      "cell_type": "code",
      "execution_count": null,
      "metadata": {
        "id": "Zr0W6G3l6btP"
      },
      "outputs": [],
      "source": [
        "# Evaluation policies training\n",
        "all_next_states_eval, all_past3_rewards_eval = preprocess_nstep_data(augmented_evaluation_policies)\n",
        "\n",
        "# Define hyperparameters for the neural network\n",
        "input_shape = all_next_states_eval.shape[1:]  # Shape of the input state (excluding batch size)\n",
        "learning_rate = 0.005\n",
        "num_epochs = 1000\n",
        "batch_size = 32\n",
        "\n",
        "# Create the neural network\n",
        "reward_predictor_3states_eval = RewardPredictor3States(input_shape)\n",
        "\n",
        "# Compile the model\n",
        "reward_predictor_3states_eval.compile(optimizer=tf.keras.optimizers.Adam(learning_rate),\n",
        "                         loss='mean_squared_error')\n",
        "\n",
        "# Step 3: Train the neural network with early stopping\n",
        "callbacks = [\n",
        "    tf.keras.callbacks.EarlyStopping(patience=10, monitor='val_loss', restore_best_weights=True)\n",
        "]\n",
        "\n",
        "reward_predictor_3states_eval.fit(\n",
        "    all_next_states_eval, all_past3_rewards_eval,\n",
        "    batch_size=batch_size, epochs=num_epochs,\n",
        "    callbacks=callbacks, validation_split=0.2, verbose=1\n",
        ")"
      ]
    },
    {
      "cell_type": "code",
      "execution_count": null,
      "metadata": {
        "id": "oeEQ3Isp7KxB"
      },
      "outputs": [],
      "source": [
        "current_state = [4,3]\n",
        "current_state = np.array(current_state, dtype=np.float32)\n",
        "predicted_reward_current = reward_predictor_3states_eval.predict(np.expand_dims(current_state, axis=0))\n",
        "print(\"Predicted Reward Current State:\", predicted_reward_current[0, 0])"
      ]
    },
    {
      "cell_type": "markdown",
      "metadata": {
        "id": "QyxbNoxzs_ah"
      },
      "source": [
        "State, action, Next State -> Reward"
      ]
    },
    {
      "cell_type": "code",
      "execution_count": null,
      "metadata": {
        "id": "gm0AQ1adtC3-"
      },
      "outputs": [],
      "source": [
        "\n",
        "# import tensorflow as tf\n",
        "# import numpy as np\n",
        "\n",
        "# # Step 1: Prepare the data\n",
        "# behavior_policies = [...]  # Replace [...] with your actual behavior_policies list\n",
        "\n",
        "# # Initialize lists to store all 'current_state', 'action', 'next_state', and 'reward' values\n",
        "# all_current_states = []\n",
        "# all_actions = []\n",
        "# all_next_states = []\n",
        "# all_rewards = []\n",
        "\n",
        "# # Extract the 'current_state', 'action', 'next_state', and 'reward' from the 'behavior_policies' list\n",
        "# for trajectory in behavior_policies:\n",
        "#     for state, action, reward, next_state in trajectory:\n",
        "#         all_current_states.append(state)\n",
        "#         all_actions.append(action)\n",
        "#         all_next_states.append(next_state)\n",
        "#         all_rewards.append(reward)\n",
        "\n",
        "# # Convert 'current_states', 'actions', 'next_states', and 'rewards' into appropriate formats for training\n",
        "# all_current_states = np.array(all_current_states, dtype=np.float32)\n",
        "# all_actions = np.array(all_actions, dtype=np.float32)\n",
        "# all_next_states = np.array(all_next_states, dtype=np.float32)\n",
        "# all_rewards = np.array(all_rewards, dtype=np.float32)"
      ]
    },
    {
      "cell_type": "markdown",
      "metadata": {
        "id": "Tx2TXRLpJdVV"
      },
      "source": [
        "## State + proximity to good/bad regions -> Cumulative Reward"
      ]
    },
    {
      "cell_type": "markdown",
      "source": [
        "# OPE Calculations"
      ],
      "metadata": {
        "id": "6nNbcCLTOMxK"
      }
    },
    {
      "cell_type": "markdown",
      "source": [
        "## Importance Weights"
      ],
      "metadata": {
        "id": "608qtLdqhbOO"
      }
    },
    {
      "cell_type": "code",
      "execution_count": 14,
      "metadata": {
        "id": "3ykvUcj6YAJM"
      },
      "outputs": [],
      "source": [
        "def calculate_importance_weights(eval_policy, behav_policy, behavior_policies):\n",
        "  all_weights = []\n",
        "  for trajectory in behavior_policies:\n",
        "    cum_ratio = 1\n",
        "    cumul_weights = []\n",
        "    for step in trajectory:\n",
        "        ratio = eval_policy[step[1]]/behav_policy[step[1]]\n",
        "        # print(\"Ratio:\",ratio)\n",
        "        cum_ratio *= ratio\n",
        "        cumul_weights.append(cum_ratio)\n",
        "        # print(\"Cumul:\",cum_ratio)\n",
        "    all_weights.append(cumul_weights)\n",
        "\n",
        "  return all_weights"
      ]
    },
    {
      "cell_type": "markdown",
      "source": [
        "## IS"
      ],
      "metadata": {
        "id": "VgadQNBwlT2e"
      }
    },
    {
      "cell_type": "code",
      "source": [
        "import numpy as np\n",
        "\n",
        "def per_step_IS(scope_set, num_bootstraps):\n",
        "    all_timesteps = []\n",
        "    gamma = 0.9\n",
        "    # scope_set,_ = subset_policies(scope_set, phi_trajectories)\n",
        "    scope_weights = calculate_importance_weights(eval_policy, behav_policy, scope_set)\n",
        "    for j in range(len(scope_weights)):\n",
        "        Timestep_values = []\n",
        "        for i in range(len(scope_weights[j]) - 1):\n",
        "            timestep = gamma ** (i) * scope_weights[j][i] * scope_set[j][i][2]\n",
        "            Timestep_values.append(timestep)\n",
        "\n",
        "        all_timesteps.append(Timestep_values)\n",
        "\n",
        "    V_per_traj = [sum(sublist) for sublist in all_timesteps]\n",
        "\n",
        "    seed_value = 42\n",
        "    np.random.seed(seed_value)\n",
        "\n",
        "    num_trajectories_to_sample = max(1, len(V_per_traj))\n",
        "\n",
        "    bootstrap_samples = [np.random.choice(V_per_traj, size=num_trajectories_to_sample, replace=True)\n",
        "                         for _ in range(num_bootstraps)]\n",
        "\n",
        "    V_per_sample = [sum(sample) / len(scope_set) for sample in bootstrap_samples]\n",
        "    V_per_sample = np.array(V_per_sample)\n",
        "\n",
        "    std_deviation = np.std(V_per_sample)\n",
        "    quartiles = np.percentile(V_per_sample, [25, 50, 75])\n",
        "    max_value = np.max(V_per_sample)\n",
        "    min_value = np.min(V_per_sample)\n",
        "\n",
        "    return {\n",
        "        'std_deviation': std_deviation,\n",
        "        'quartiles': quartiles,\n",
        "        'max_value': max_value,\n",
        "        'min_value': min_value\n",
        "    }\n"
      ],
      "metadata": {
        "id": "QBr9A3d00YfY"
      },
      "execution_count": 15,
      "outputs": []
    },
    {
      "cell_type": "markdown",
      "source": [
        "## SCOPE"
      ],
      "metadata": {
        "id": "DzDCmT7zm4IV"
      }
    },
    {
      "cell_type": "code",
      "source": [
        "import numpy as np\n",
        "\n",
        "def SCOPE(scope_policies, beta, num_bootstraps):\n",
        "    all_timesteps = []\n",
        "    gamma = 0.9\n",
        "    # scope_policies,_ = subset_policies(scope_policies, phi_trajectories)\n",
        "    scope_weights = calculate_importance_weights(eval_policy, behav_policy, scope_policies)\n",
        "    for j in range(len(scope_weights)):\n",
        "        Timestep_values = []\n",
        "        for i in range(len(scope_weights[j]) - 1):\n",
        "            features = scope_policies[j][i][5] + scope_policies[j][i][6]\n",
        "            features_next = scope_policies[j][i + 1][5] + scope_policies[j][i + 1][6]\n",
        "            timestep = gamma ** (i) * scope_weights[j][i] * (scope_policies[j][i][2] + gamma * phi(features_next, beta) - phi(features, beta))\n",
        "            Timestep_values.append(timestep)\n",
        "\n",
        "        all_timesteps.append(Timestep_values)\n",
        "\n",
        "    V_per_traj = [sum(sublist) for sublist in all_timesteps]\n",
        "\n",
        "    seed_value = 42\n",
        "    np.random.seed(seed_value)\n",
        "\n",
        "    num_trajectories_to_sample = max(1, len(V_per_traj))\n",
        "\n",
        "    bootstrap_samples = [np.random.choice(V_per_traj, size=num_trajectories_to_sample, replace=True)\n",
        "                         for _ in range(num_bootstraps)]\n",
        "\n",
        "    V_per_sample = [sum(sample)/len(scope_policies) for sample in bootstrap_samples]\n",
        "    V_per_sample = np.array(V_per_sample)\n",
        "\n",
        "    std_deviation = np.std(V_per_sample)\n",
        "    quartiles = np.percentile(V_per_sample, [25, 50, 75])\n",
        "    max_value = np.max(V_per_sample)\n",
        "    min_value = np.min(V_per_sample)\n",
        "\n",
        "    return {\n",
        "        'std_deviation': std_deviation,\n",
        "        'quartiles': quartiles,\n",
        "        'max_value': max_value,\n",
        "        'min_value': min_value\n",
        "    }\n"
      ],
      "metadata": {
        "id": "Zo6h5pcQ0Qc9"
      },
      "execution_count": 16,
      "outputs": []
    },
    {
      "cell_type": "markdown",
      "source": [
        "# Variance Preparation and Calculation"
      ],
      "metadata": {
        "id": "WL9BcVXloGpd"
      }
    },
    {
      "cell_type": "code",
      "execution_count": 17,
      "metadata": {
        "id": "CfXiEdgqDE4D"
      },
      "outputs": [],
      "source": [
        "def phi(features, beta):\n",
        "  features = np.array(features)\n",
        "  beta = np.array(beta)\n",
        "  phi_s = np.dot(beta,features)\n",
        "  return phi_s\n"
      ]
    },
    {
      "cell_type": "code",
      "execution_count": 18,
      "metadata": {
        "id": "9NdwpKSkhxZR"
      },
      "outputs": [],
      "source": [
        "import random\n",
        "# gamma = 0.9\n",
        "# beta = [random.random() for _ in range(3)]\n",
        "def variance_terms(policy_set,gamma, beta):\n",
        "  all_weights = calculate_importance_weights(eval_policy, behav_policy, policy_set)\n",
        "  y_w_r_all = 0\n",
        "  r_all = 0\n",
        "  f_a = 0\n",
        "  for j in range(len(policy_set)):\n",
        "    y_w_r = 0\n",
        "    r = 0\n",
        "    for i in range(len(policy_set[j])):\n",
        "      features = policy_set[j][i][5]+policy_set[j][i][6]\n",
        "      y_w_r += gamma**(i)*all_weights[j][i]*policy_set[j][i][2]\n",
        "      if i>0 & i<len(policy_set):\n",
        "        r += phi(features, beta)*(all_weights[j][i-1]-all_weights[j][i])\n",
        "    y_w_r_all += y_w_r\n",
        "    f_a +=  gamma**(len(policy_set[j]))*all_weights[j][-1]*phi(features,beta) - phi(features, beta) # fix the features part\n",
        "    r_all += r\n",
        "\n",
        "  IS = y_w_r_all/len(policy_set)\n",
        "  R = r_all/len(policy_set)\n",
        "  F = f_a/len(policy_set)\n",
        "  return IS, R, F\n"
      ]
    },
    {
      "cell_type": "code",
      "source": [],
      "metadata": {
        "id": "MZwTU3RldH_M"
      },
      "execution_count": null,
      "outputs": []
    },
    {
      "cell_type": "code",
      "execution_count": 19,
      "metadata": {
        "id": "6BpxUSqy7K86"
      },
      "outputs": [],
      "source": [
        "\n",
        "def subset_policies(policies, percent_to_estimate_phi):\n",
        "    seed_value = 42\n",
        "    np.random.seed(seed_value)\n",
        "    num_policies = len(policies)\n",
        "    num_policies_to_estimate_phi = int(num_policies * percent_to_estimate_phi)\n",
        "\n",
        "    policies_for_scope = policies[num_policies_to_estimate_phi:]\n",
        "    policies_for_phi = policies[:num_policies_to_estimate_phi]\n",
        "\n",
        "    return policies_for_scope, policies_for_phi\n"
      ]
    },
    {
      "cell_type": "code",
      "source": [
        "\n",
        "def calc_variance(phi_policies, gamma, beta, num_bootstrap_samples):\n",
        "  # Set the seed value (you can use any integer value)\n",
        "  seed_value = 42\n",
        "  np.random.seed(seed_value)\n",
        "  # _, phi_policies = subset_policies(phi_policies, percent_to_estimate_phi=phi_trajectories)\n",
        "  num_trajectories_to_sample = max(1, len(phi_policies))\n",
        "\n",
        "  bootstrap_samples = [np.random.choice(phi_policies, size=num_trajectories_to_sample, replace=True)\n",
        "                         for _ in range(num_bootstrap_samples)]\n",
        "  IS_all = []\n",
        "  R_all = []\n",
        "  F_all = []\n",
        "\n",
        "  for pol in bootstrap_samples:\n",
        "    IS, R, F = variance_terms(pol,0.9,beta)\n",
        "    IS_all.append(IS)\n",
        "    R_all.append(R)\n",
        "    F_all.append(F)\n",
        "  IS_sq = np.mean([num**2 for num in IS_all])\n",
        "  IS_R_F = 2*np.mean([IS_all[i]*(R_all[i]+F_all[i]) for i in range(len(IS_all))])\n",
        "  R_sq = np.mean([num**2 for num in R_all])\n",
        "  IS_sq_all = (np.mean(IS_all))**2\n",
        "  IS_r_t_f = 2*np.mean(IS_all)*np.mean([R_all[i]+F_all[i] for i in range(len(R_all))])\n",
        "  R_sq_all = (np.mean(R_all))**2\n",
        "\n",
        "  variance_scope = IS_sq + IS_R_F + R_sq - IS_sq_all - IS_r_t_f - R_sq_all\n",
        "  variance_is = IS_sq - IS_sq_all\n",
        "  return variance_scope, variance_is"
      ],
      "metadata": {
        "id": "dTxzFiNTwV30"
      },
      "execution_count": 20,
      "outputs": []
    },
    {
      "cell_type": "code",
      "source": [
        "pi_b = create_policy_set(env_bad_one, run_policy, behav_policy, 200)"
      ],
      "metadata": {
        "id": "PqdLWWZSdPna"
      },
      "execution_count": 217,
      "outputs": []
    },
    {
      "cell_type": "code",
      "source": [
        "pi_b[1][-1]"
      ],
      "metadata": {
        "colab": {
          "base_uri": "https://localhost:8080/"
        },
        "id": "eT7HWLJpeBP3",
        "outputId": "c80bf92f-e166-4d3c-8f6f-84a19615cd41"
      },
      "execution_count": 223,
      "outputs": [
        {
          "output_type": "execute_result",
          "data": {
            "text/plain": [
              "((4, 3), 'up', 3, (4, 4), 1.0, [], [3])"
            ]
          },
          "metadata": {},
          "execution_count": 223
        }
      ]
    },
    {
      "cell_type": "markdown",
      "source": [
        "An example of an initial guess of phi can be seen below, as you can see the SCOPE variance is not ideal."
      ],
      "metadata": {
        "id": "36vQxkjcnrEM"
      }
    },
    {
      "cell_type": "code",
      "source": [
        "scope_set, phi_set = subset_policies(behavior_policies, 0.3)\n",
        "variance_scope, variance_is = calc_variance(phi_set,0.9,[-0.1,.1,.1], 100, 0.3)\n",
        "print(\"Var SCOPE: \",variance_scope)\n",
        "print(\"Var IS: \",variance_is)\n",
        "print(\"Percent change in variance: \",((variance_scope-variance_is)/variance_is)*100)"
      ],
      "metadata": {
        "colab": {
          "base_uri": "https://localhost:8080/"
        },
        "id": "74yBmg6_edJv",
        "outputId": "92e0acaf-5fc1-4131-81e9-273bba973508"
      },
      "execution_count": 58,
      "outputs": [
        {
          "output_type": "stream",
          "name": "stdout",
          "text": [
            "Var SCOPE:  0.7292656998003821\n",
            "Var IS:  0.3796743263659492\n",
            "Percent change in variance:  92.07664283770379\n"
          ]
        }
      ]
    },
    {
      "cell_type": "markdown",
      "metadata": {
        "id": "UefNOC1GC8Wm"
      },
      "source": [
        "# Optimization"
      ]
    },
    {
      "cell_type": "markdown",
      "source": [
        "Here we aim to optimize beta to minimize SCOPE variance."
      ],
      "metadata": {
        "id": "RWx9IbJon2IH"
      }
    },
    {
      "cell_type": "code",
      "source": [
        "import numpy as np\n",
        "np.warnings.filterwarnings('ignore', category=np.VisibleDeprecationWarning)\n",
        "\n",
        "from scipy.optimize import minimize\n",
        "\n",
        "# Define the objective function to minimize variance_scope\n",
        "def objective_function(beta, phi_set):\n",
        "    # scope_set, phi_set = subset_policies(phi_set, phi_trajectories)\n",
        "    variance_scope, variance_is = calc_variance(phi_set, 0.9, beta, 100)\n",
        "    return variance_scope\n",
        "\n",
        "# Set the initial values of beta\n",
        "initial_beta = np.array([ 0.2610704,   0.30396575, -0.43850237])\n",
        "\n",
        "\n",
        "def optimize_variance_scope(initial_beta, phi_set, phi_trajectories):\n",
        "    # Lists to store beta and variance_scope values at each iteration\n",
        "    all_betas = []\n",
        "    all_variance_scopes = []\n",
        "\n",
        "    # Callback function to record beta and variance_scope values at each iteration\n",
        "    def callback_function(beta):\n",
        "        all_betas.append(beta.copy())\n",
        "        variance_scope = objective_function(beta, phi_set)\n",
        "        all_variance_scopes.append(variance_scope)\n",
        "        print(\"Iteration:\", len(all_betas))\n",
        "        print(\"Beta:\", beta)\n",
        "        print(\"Variance Scope:\", variance_scope)\n",
        "        print(\"----------\")\n",
        "\n",
        "    # Run the optimization with the callback\n",
        "    result = minimize(\n",
        "        objective_function,\n",
        "        initial_beta,\n",
        "        args=(phi_set),\n",
        "        method='L-BFGS-B',\n",
        "        callback=callback_function\n",
        "    )\n",
        "\n",
        "    # Extract the optimal beta values\n",
        "    optimal_beta = result.x\n",
        "\n",
        "    return optimal_beta\n"
      ],
      "metadata": {
        "id": "Ws00tRw1KZnN"
      },
      "execution_count": 21,
      "outputs": []
    },
    {
      "cell_type": "code",
      "source": [
        "optimal_beta = optimize_variance_scope(initial_beta, behavior_policies, 0.3)"
      ],
      "metadata": {
        "colab": {
          "base_uri": "https://localhost:8080/"
        },
        "id": "QZFyTciRkhpd",
        "outputId": "661864ee-246d-4fbf-af01-58cde24a3543"
      },
      "execution_count": 61,
      "outputs": [
        {
          "output_type": "stream",
          "name": "stdout",
          "text": [
            "Iteration: 1\n",
            "Beta: [ 0.16821737  0.35271354 -0.42156545]\n",
            "Variance Scope: 0.11317799047435423\n",
            "----------\n",
            "Iteration: 2\n",
            "Beta: [ 0.15853249  0.34137881 -0.42710298]\n",
            "Variance Scope: 0.11040088606596254\n",
            "----------\n",
            "Iteration: 3\n",
            "Beta: [ 0.15073224  0.32968859 -0.42471605]\n",
            "Variance Scope: 0.1093933569252897\n",
            "----------\n",
            "Iteration: 4\n",
            "Beta: [ 0.14615259  0.3202478  -0.4164246 ]\n",
            "Variance Scope: 0.10883472336459371\n",
            "----------\n",
            "Iteration: 5\n",
            "Beta: [ 0.14331703  0.31081431 -0.40169853]\n",
            "Variance Scope: 0.108436847289928\n",
            "----------\n",
            "Iteration: 6\n",
            "Beta: [ 0.14352606  0.31073858 -0.40072254]\n",
            "Variance Scope: 0.10843321214844745\n",
            "----------\n",
            "Iteration: 7\n",
            "Beta: [ 0.14356653  0.31079481 -0.40072313]\n",
            "Variance Scope: 0.10843319408861363\n",
            "----------\n",
            "Iteration: 8\n",
            "Beta: [ 0.14356994  0.31080162 -0.40072872]\n",
            "Variance Scope: 0.10843319398401882\n",
            "----------\n"
          ]
        }
      ]
    },
    {
      "cell_type": "markdown",
      "source": [
        "# Value estimates of IS and SCOPE estimators"
      ],
      "metadata": {
        "id": "LUVgi1GMloz-"
      }
    },
    {
      "cell_type": "code",
      "source": [
        "# all_weights = calculate_importance_weights(eval_policy, behav_policy, behavior_policies)\n",
        "beta =  [ 0.2609209,   0.47456879, -0.52815694]\n",
        "# beta = [0,0,0]\n",
        "V_per_sample, scope_std, scope_quartiles, scope_max_value, scope_min_value = SCOPE(behavior_policies,optimal_beta,0.3,300)\n",
        "print(\"SCOPE Std Dev: \", scope_std)\n",
        "print(\"SCOPE quartiles: \",scope_quartiles)\n",
        "print(\"SCOPE max: \",scope_max_value)\n",
        "print(\"SCOPE min\",scope_min_value)"
      ],
      "metadata": {
        "id": "LHQ-x-S-hLnV"
      },
      "execution_count": null,
      "outputs": []
    },
    {
      "cell_type": "code",
      "source": [
        "IS_per_traj, is_std, is_quartiles, is_max_value, is_min_value = per_step_IS(behavior_policies,0.3,300)\n",
        "print(\"IS std dev: \",is_std)\n",
        "print(\"IS quartiles: \",is_quartiles)\n",
        "print(\"IS max: \",is_max_value)\n",
        "print(\"IS min: \", is_min_value)"
      ],
      "metadata": {
        "colab": {
          "base_uri": "https://localhost:8080/"
        },
        "id": "HBVmYwOIhuTo",
        "outputId": "89ef9958-1310-4e73-d831-aaf399f2cbd4"
      },
      "execution_count": 51,
      "outputs": [
        {
          "output_type": "stream",
          "name": "stdout",
          "text": [
            "IS std dev:  0.10933610817754\n",
            "IS quartiles:  [-0.84036769 -0.77909955 -0.69050267]\n",
            "IS max:  -0.5479659789843923\n",
            "IS min:  -1.0898425977186181\n"
          ]
        }
      ]
    },
    {
      "cell_type": "code",
      "source": [],
      "metadata": {
        "id": "xTexgYskreS6"
      },
      "execution_count": null,
      "outputs": []
    },
    {
      "cell_type": "markdown",
      "source": [
        "# Assimilation (Ignore for now)"
      ],
      "metadata": {
        "id": "PsY0dioZrpEd"
      }
    },
    {
      "cell_type": "code",
      "source": [
        "env = GridWorld(height, width, start, end, [(1, 1), (2, 2)], [(3,3)], 0.5, -2, 3)\n",
        "\n",
        "# Number of episodes\n",
        "num_episodes = 100"
      ],
      "metadata": {
        "id": "IflYRufTrqQe"
      },
      "execution_count": 24,
      "outputs": []
    },
    {
      "cell_type": "code",
      "source": [
        "behavior_policies_1000, filename = create_policy_set(env, behavior_policy, num_episodes)"
      ],
      "metadata": {
        "id": "J-xiQHlgrrJh"
      },
      "execution_count": 37,
      "outputs": []
    },
    {
      "cell_type": "code",
      "source": [
        "scope_set, phi_set = subset_policies(behavior_policies_1000, 0.3)\n",
        "variance_scope, variance_is = calc_variance(phi_set,0.9,[-0.1,.1,.1], 100, 0.3)\n",
        "print(\"Var SCOPE: \",variance_scope)\n",
        "print(\"Var IS: \",variance_is)\n",
        "print(\"Percent change in variance: \",((variance_scope-variance_is)/variance_is)*100)"
      ],
      "metadata": {
        "colab": {
          "base_uri": "https://localhost:8080/"
        },
        "id": "COh19GO3sKYb",
        "outputId": "37f09c6d-7fd2-4d5d-ec2f-409ab64fd6af"
      },
      "execution_count": 38,
      "outputs": [
        {
          "output_type": "stream",
          "name": "stdout",
          "text": [
            "Var SCOPE:  0.032392092704986115\n",
            "Var IS:  0.0184793990245945\n",
            "Percent change in variance:  75.28758733914998\n"
          ]
        }
      ]
    },
    {
      "cell_type": "code",
      "source": [
        "initial_beta = [-0.1,.1,.1]\n",
        "optimal_beta = optimize_variance_scope(initial_beta, behavior_policies_1000, 0.3)"
      ],
      "metadata": {
        "colab": {
          "base_uri": "https://localhost:8080/"
        },
        "id": "BRS-QsNHsWgw",
        "outputId": "7b15fbc5-34f2-4360-89a2-4923a395637e"
      },
      "execution_count": 39,
      "outputs": [
        {
          "output_type": "stream",
          "name": "stdout",
          "text": [
            "Iteration: 1\n",
            "Beta: [-0.06523181  0.02304533  0.05253761]\n",
            "Variance Scope: 0.02084052183274824\n",
            "----------\n",
            "Iteration: 2\n",
            "Beta: [-0.02091298  0.02012022  0.04768606]\n",
            "Variance Scope: 0.01692647175961828\n",
            "----------\n",
            "Iteration: 3\n",
            "Beta: [0.04789626 0.02635576 0.02143015]\n",
            "Variance Scope: 0.014199863342526705\n",
            "----------\n",
            "Iteration: 4\n",
            "Beta: [ 0.0614707   0.03860064 -0.00288591]\n",
            "Variance Scope: 0.013542628515201995\n",
            "----------\n",
            "Iteration: 5\n",
            "Beta: [ 0.12437417  0.14081556 -0.19456702]\n",
            "Variance Scope: 0.010246852619742673\n",
            "----------\n",
            "Iteration: 6\n",
            "Beta: [ 0.12737027  0.19524445 -0.28980009]\n",
            "Variance Scope: 0.00932164732044462\n",
            "----------\n",
            "Iteration: 7\n",
            "Beta: [ 0.12140381  0.20291535 -0.30178977]\n",
            "Variance Scope: 0.00926777196071786\n",
            "----------\n",
            "Iteration: 8\n",
            "Beta: [ 0.12023918  0.20215579 -0.3002091 ]\n",
            "Variance Scope: 0.009267233371063562\n",
            "----------\n",
            "Iteration: 9\n",
            "Beta: [ 0.12012512  0.20199007 -0.29989563]\n",
            "Variance Scope: 0.009267227627684869\n",
            "----------\n"
          ]
        }
      ]
    },
    {
      "cell_type": "code",
      "source": [
        "variance_scope, variance_is = calc_variance(phi_set,0.9,optimal_beta, 300, 0.3)\n",
        "print(\"Var SCOPE: \",variance_scope)\n",
        "print(\"Var IS: \",variance_is)\n",
        "print(\"Percent change in variance: \",((variance_scope-variance_is)/variance_is)*100)"
      ],
      "metadata": {
        "colab": {
          "base_uri": "https://localhost:8080/"
        },
        "id": "xH2OPoXh9wdQ",
        "outputId": "d507d820-f9aa-4091-865c-ed61db019105"
      },
      "execution_count": 41,
      "outputs": [
        {
          "output_type": "stream",
          "name": "stdout",
          "text": [
            "Var SCOPE:  0.00878962726137877\n",
            "Var IS:  0.015733865317291262\n",
            "Percent change in variance:  -44.13561395038057\n"
          ]
        }
      ]
    },
    {
      "cell_type": "code",
      "source": [
        "V_per_traj, scope_std, scope_quartiles, scope_max_value, scope_min_value = SCOPE(behavior_policies_1000,optimal_beta,0.3,10000)\n",
        "print(\"SCOPE Std Dev: \", scope_std)\n",
        "print(\"SCOPE quartiles: \",scope_quartiles)\n",
        "print(\"SCOPE max: \",scope_max_value)\n",
        "print(\"SCOPE min\",scope_min_value)\n"
      ],
      "metadata": {
        "colab": {
          "base_uri": "https://localhost:8080/"
        },
        "id": "uAIgTfMKskLi",
        "outputId": "27d2be95-70cd-40ed-aa22-1afda90dec5b"
      },
      "execution_count": 46,
      "outputs": [
        {
          "output_type": "stream",
          "name": "stdout",
          "text": [
            "SCOPE Std Dev:  0.0847273731246662\n",
            "SCOPE quartiles:  [-0.73940798 -0.67815197 -0.6243099 ]\n",
            "SCOPE max:  -0.4319544216644854\n",
            "SCOPE min -1.0604403679851322\n"
          ]
        }
      ]
    },
    {
      "cell_type": "code",
      "source": [
        "at, IS_per_traj, is_std, is_quartiles, is_max_value, is_min_value = per_step_IS(behavior_policies_1000,0.3,1000)\n",
        "print(\"IS std dev: \",is_std)\n",
        "print(\"IS quartiles: \",is_quartiles)\n",
        "print(\"IS max: \",is_max_value)\n",
        "print(\"IS min: \", is_min_value)"
      ],
      "metadata": {
        "colab": {
          "base_uri": "https://localhost:8080/"
        },
        "id": "JXrb1n237q0R",
        "outputId": "4a67d882-0995-4d7e-e4ab-c74fd41e41cb"
      },
      "execution_count": 44,
      "outputs": [
        {
          "output_type": "stream",
          "name": "stdout",
          "text": [
            "IS std dev:  0.055378959467358886\n",
            "IS quartiles:  [-0.8130771  -0.77558457 -0.74007423]\n",
            "IS max:  -0.6024242140435747\n",
            "IS min:  -0.93931194204315\n"
          ]
        }
      ]
    },
    {
      "cell_type": "code",
      "source": [],
      "metadata": {
        "id": "d_L6pGLhm8NX"
      },
      "execution_count": null,
      "outputs": []
    },
    {
      "cell_type": "code",
      "source": [
        "env_bad = GridWorld(height, width, start, end, [(1, 1), (2, 2)], [])\n",
        "\n",
        "# Number of episodes\n",
        "num_episodes = 1000\n"
      ],
      "metadata": {
        "id": "7QK8GxihmjeA"
      },
      "execution_count": 71,
      "outputs": []
    },
    {
      "cell_type": "code",
      "source": [
        "behavior_policies_bad_1000, filename = create_policy_set(env_bad, behavior_policy, num_episodes)"
      ],
      "metadata": {
        "id": "avT5FfwTmpTh"
      },
      "execution_count": 50,
      "outputs": []
    },
    {
      "cell_type": "code",
      "source": [
        "scope_set, phi_set = subset_policies(behavior_policies_bad_1000, 0.3)\n",
        "variance_scope, variance_is = calc_variance(phi_set,0.9,[-0.1,.1], 100, 0.3)\n",
        "print(\"Var SCOPE: \",variance_scope)\n",
        "print(\"Var IS: \",variance_is)\n",
        "print(\"Percent change in variance: \",((variance_scope-variance_is)/variance_is)*100)"
      ],
      "metadata": {
        "colab": {
          "base_uri": "https://localhost:8080/"
        },
        "id": "47JhNMSInAoa",
        "outputId": "973e94d7-1606-42c7-d241-57ed0a63bad9"
      },
      "execution_count": 53,
      "outputs": [
        {
          "output_type": "stream",
          "name": "stdout",
          "text": [
            "Var SCOPE:  0.4941626782271849\n",
            "Var IS:  0.39076410364829994\n",
            "Percent change in variance:  26.460612326854605\n"
          ]
        }
      ]
    },
    {
      "cell_type": "code",
      "source": [
        "initial_beta = [-0.1,.1]\n",
        "optimal_beta = optimize_variance_scope(initial_beta, behavior_policies_bad_1000, 0.3)"
      ],
      "metadata": {
        "colab": {
          "base_uri": "https://localhost:8080/"
        },
        "id": "owQtb6mdnDwX",
        "outputId": "97688da1-70af-4e42-c408-90788277459e"
      },
      "execution_count": 54,
      "outputs": [
        {
          "output_type": "stream",
          "name": "stdout",
          "text": [
            "Iteration: 1\n",
            "Beta: [0.06354653 0.16516067]\n",
            "Variance Scope: 0.3081369785991253\n",
            "----------\n",
            "Iteration: 2\n",
            "Beta: [0.09808462 0.09657364]\n",
            "Variance Scope: 0.29495541572903466\n",
            "----------\n",
            "Iteration: 3\n",
            "Beta: [ 0.31395925 -0.33211788]\n",
            "Variance Scope: 0.25681217412820095\n",
            "----------\n"
          ]
        }
      ]
    },
    {
      "cell_type": "code",
      "source": [
        "variance_scope, variance_is = calc_variance(behavior_policies_bad_1000,0.9,optimal_beta, 300, 0.3)\n",
        "print(\"Var SCOPE: \",variance_scope)\n",
        "print(\"Var IS: \",variance_is)\n",
        "print(\"Percent change in variance: \",((variance_scope-variance_is)/variance_is)*100)"
      ],
      "metadata": {
        "colab": {
          "base_uri": "https://localhost:8080/"
        },
        "id": "ifwEccyroGf5",
        "outputId": "67d62332-ac09-43ef-81c7-8502bdf346bc"
      },
      "execution_count": 62,
      "outputs": [
        {
          "output_type": "stream",
          "name": "stdout",
          "text": [
            "Var SCOPE:  0.03902754903340479\n",
            "Var IS:  0.03555696106170689\n",
            "Percent change in variance:  9.760642833550683\n"
          ]
        }
      ]
    },
    {
      "cell_type": "code",
      "source": [
        "V_per_traj, scope_std, scope_quartiles, scope_max_value, scope_min_value = SCOPE(behavior_policies_bad_1000,optimal_beta,0.3,10000)\n",
        "print(\"SCOPE Std Dev: \", scope_std)\n",
        "print(\"SCOPE quartiles: \",scope_quartiles)\n",
        "print(\"SCOPE max: \",scope_max_value)\n",
        "print(\"SCOPE min\",scope_min_value)\n"
      ],
      "metadata": {
        "colab": {
          "base_uri": "https://localhost:8080/"
        },
        "id": "_psH1qU7ofjd",
        "outputId": "46a74337-2617-455b-d567-c7a193a06c0b"
      },
      "execution_count": 57,
      "outputs": [
        {
          "output_type": "stream",
          "name": "stdout",
          "text": [
            "SCOPE Std Dev:  0.03854389393810322\n",
            "SCOPE quartiles:  [-0.00872616  0.01719359  0.04284018]\n",
            "SCOPE max:  0.17204384949003806\n",
            "SCOPE min -0.11922521511670789\n"
          ]
        }
      ]
    },
    {
      "cell_type": "code",
      "source": [
        "at, IS_per_traj, is_std, is_quartiles, is_max_value, is_min_value = per_step_IS(behavior_policies_1000,0.3,1000)\n",
        "print(\"IS std dev: \",is_std)\n",
        "print(\"IS quartiles: \",is_quartiles)\n",
        "print(\"IS max: \",is_max_value)\n",
        "print(\"IS min: \", is_min_value)"
      ],
      "metadata": {
        "colab": {
          "base_uri": "https://localhost:8080/"
        },
        "id": "kuluyPbUon4o",
        "outputId": "9e98f5b4-fc3e-4425-86ef-67c84589ece3"
      },
      "execution_count": 58,
      "outputs": [
        {
          "output_type": "stream",
          "name": "stdout",
          "text": [
            "IS std dev:  0.055378959467358886\n",
            "IS quartiles:  [-0.8130771  -0.77558457 -0.74007423]\n",
            "IS max:  -0.6024242140435747\n",
            "IS min:  -0.93931194204315\n"
          ]
        }
      ]
    },
    {
      "cell_type": "markdown",
      "source": [
        "# Experiments"
      ],
      "metadata": {
        "id": "W6UDEPbgEG7i"
      }
    },
    {
      "cell_type": "code",
      "source": [
        "import random\n",
        "import os\n",
        "def run_experiment(env, num_episodes, behav_policy, eval_policy, phi_traj):\n",
        "  file = filename(env, behav_policy, eval_policy, num_episodes, phi_traj)\n",
        "  # Check if the file already exists\n",
        "  if os.path.exists(file):\n",
        "    loaded_data = load_data_from_file(file)\n",
        "    return loaded_data\n",
        "  behavior_policies = create_policy_set(env, run_policy,behav_policy, num_episodes)\n",
        "  initial_beta = [random.uniform(-0.5, 0.5) for _ in range(len(env.good_regions + env.bad_regions))]\n",
        "  scope_set, phi_set = subset_policies(behavior_policies, phi_traj)\n",
        "  optimal_beta = optimize_variance_scope(initial_beta, phi_set, phi_traj)\n",
        "  variance_scope, variance_is = calc_variance(phi_set,0.9,optimal_beta, 500)\n",
        "  print(\"Var SCOPE_phi: \",variance_scope)\n",
        "  print(\"Var IS_phi: \",variance_is)\n",
        "  print(\"Percent change in variance: \",((variance_scope-variance_is)/variance_is)*100)\n",
        "  scope_results = SCOPE(scope_set,optimal_beta,500)\n",
        "  IS_results = per_step_IS(scope_set,500)\n",
        "  print(\"SCOPE results: \", scope_results)\n",
        "  print(\"IS results: \", IS_results)\n",
        "  evaluation_policies = create_policy_set(env, run_policy,eval_policy, 1000)\n",
        "  true_evaluation = calc_V_pi_e(evaluation_policies)\n",
        "  print(\"true eval: \", true_evaluation)\n",
        "  data_to_save = {\n",
        "    'policy_set': behavior_policies,\n",
        "    'optimal_beta': optimal_beta,\n",
        "    'variance_scope_train': variance_scope,\n",
        "    'variance_IS_train': variance_is,\n",
        "    'scope_results': scope_results,\n",
        "    'IS_results': IS_results,\n",
        "    'True Evaluation': true_evaluation\n",
        "  }\n",
        "  save_data_to_file(data_to_save, file)\n",
        "\n",
        "  return data_to_save\n",
        "\n"
      ],
      "metadata": {
        "id": "F2qemIPUr_KL"
      },
      "execution_count": 25,
      "outputs": []
    },
    {
      "cell_type": "markdown",
      "source": [
        "## Plotting functions"
      ],
      "metadata": {
        "id": "cNb6dblWEJ9f"
      }
    },
    {
      "cell_type": "code",
      "source": [
        "import matplotlib.pyplot as plt\n",
        "from matplotlib.lines import Line2D\n",
        "\n",
        "def plot_rewards_over_trajectories(env, num_trajectories, behav_policy, eval_policy, phi_traj):\n",
        "    combined_scope = []\n",
        "    combined_is = []\n",
        "\n",
        "    for i in range(len(num_trajectories)):\n",
        "        results = run_experiment(env, num_trajectories[i], behav_policy, eval_policy, phi_traj)\n",
        "        if num_trajectories[i] == 1000:\n",
        "            true_val = results['True Evaluation']\n",
        "\n",
        "        scope_results = results['scope_results']\n",
        "        is_results = results['IS_results']\n",
        "\n",
        "        min_scope = scope_results['min_value']\n",
        "        min_is = is_results['min_value']\n",
        "\n",
        "        quartiles_scope = scope_results['quartiles']\n",
        "        quartiles_is = is_results['quartiles']\n",
        "\n",
        "        max_scope = scope_results['max_value']\n",
        "        max_is = is_results['max_value']\n",
        "\n",
        "        quartiles_scope = np.insert(quartiles_scope, 0 , min_scope)\n",
        "        quartiles_scope = np.insert(quartiles_scope, -1 , max_scope)\n",
        "        quartiles_is = np.insert(quartiles_is, 0 , min_is)\n",
        "        quartiles_is = np.insert(quartiles_is, -1 , max_is)\n",
        "\n",
        "        combined_scope.append(quartiles_scope)\n",
        "        combined_is.append(quartiles_is)\n",
        "\n",
        "        print(num_trajectories[i], \" trajectories done\")\n",
        "\n",
        "    # Transpose the quartiles data for compatibility with boxplot\n",
        "    combined_scope = np.array(combined_scope).T\n",
        "    combined_is = np.array(combined_is).T\n",
        "\n",
        "    # Create box and whisker plots for both SCOPE and IS data on the same plot\n",
        "    plt.boxplot(combined_scope, positions=np.array(range(len(num_trajectories))) * 2 - 0.4, labels=num_trajectories, widths=0.4, patch_artist=True, boxprops=dict(facecolor='blue'), vert=True)\n",
        "    plt.boxplot(combined_is, positions=np.array(range(len(num_trajectories))) * 2 + 0.4, labels=num_trajectories, widths=0.4, patch_artist=True, boxprops=dict(facecolor='orange'), vert=True)\n",
        "\n",
        "    plt.xlabel('Number of Trajectories')\n",
        "    plt.ylabel('Rewards')\n",
        "    plt.title('SCOPE and stepIS Box and Whisker Plots vs. Number of Trajectories')\n",
        "\n",
        "    # Add horizontal line for true_val\n",
        "    plt.axhline(y=true_val, color='green', linestyle='--', label='True Value')\n",
        "\n",
        "    # Create custom legend handles and labels\n",
        "    custom_legend_handles = [\n",
        "        Line2D([0], [0], color='blue', marker='s', markersize=10, label='SCOPE'),\n",
        "        Line2D([0], [0], color='orange', marker='s', markersize=10, label='stepIS'),\n",
        "        Line2D([0], [0], color='green', linestyle='--', label='True Value')\n",
        "    ]\n",
        "\n",
        "    plt.legend(handles=custom_legend_handles, bbox_to_anchor=(1.05, 1), loc='upper left')\n",
        "\n",
        "    plt.grid(True)\n",
        "    plt.tight_layout()  # Ensures proper spacing and avoids clipping\n",
        "    plt.show()\n",
        "\n"
      ],
      "metadata": {
        "id": "JFovFi5XCo0w"
      },
      "execution_count": 77,
      "outputs": []
    },
    {
      "cell_type": "markdown",
      "source": [
        "## Two bad regions"
      ],
      "metadata": {
        "id": "tHzM9twKpFeG"
      }
    },
    {
      "cell_type": "code",
      "source": [
        "env_bad = GridWorld(height, width, start, end, [(1, 1), (2, 2)], [], 0.5, -2, 3 )\n",
        "eval_policy = {\"up\": 0.4, \"down\": 0.1, \"left\": 0.1, \"right\": 0.4}\n",
        "behav_policy = {\"up\": 0.25, \"down\": 0.25, \"left\": 0.25, \"right\": 0.25}\n",
        "num_trajectories = [200,400, 600, 800,1000]"
      ],
      "metadata": {
        "id": "RUB7QtVtd5Ja"
      },
      "execution_count": 75,
      "outputs": []
    },
    {
      "cell_type": "code",
      "source": [
        "results = run_experiment(env_bad,200 ,behav_policy, eval_policy, 0.3)"
      ],
      "metadata": {
        "colab": {
          "base_uri": "https://localhost:8080/"
        },
        "id": "70V9ZZOmd_ll",
        "outputId": "b7a449b1-80e7-4b6b-c694-c8b1c4e20de6"
      },
      "execution_count": 155,
      "outputs": [
        {
          "output_type": "stream",
          "name": "stdout",
          "text": [
            "Iteration: 1\n",
            "Beta: [-0.23775529 -0.31538279]\n",
            "Variance Scope: 0.1952989531616176\n",
            "----------\n",
            "Iteration: 2\n",
            "Beta: [ 0.00855792 -0.08425921]\n",
            "Variance Scope: 0.06434114007870334\n",
            "----------\n",
            "Iteration: 3\n",
            "Beta: [ 0.0352773  -0.11086204]\n",
            "Variance Scope: 0.06380017194509344\n",
            "----------\n",
            "Iteration: 4\n",
            "Beta: [ 0.08619689 -0.16507904]\n",
            "Variance Scope: 0.06337315182993845\n",
            "----------\n",
            "Var SCOPE_phi:  0.05957555228925791\n",
            "Var IS_phi:  0.0683541967788337\n",
            "Percent change in variance:  -12.842875643729526\n",
            "SCOPE results:  {'std_deviation': 0.24342653846751341, 'quartiles': array([-1.54442223, -1.3919995 , -1.21875629]), 'max_value': -0.704109558487164, 'min_value': -2.107781336742554}\n",
            "IS results:  {'std_deviation': 0.23874003778219374, 'quartiles': array([-1.9645772 , -1.82428064, -1.65781159]), 'max_value': -1.1542280596283199, 'min_value': -2.5997582966046138}\n",
            "true eval:  0.404\n"
          ]
        }
      ]
    },
    {
      "cell_type": "code",
      "source": [
        "for i in num_trajectories:\n",
        "  run_experiment(env_bad,i ,behav_policy, eval_policy, 0.3)\n",
        "  print(i,\" trajectories done\")"
      ],
      "metadata": {
        "colab": {
          "base_uri": "https://localhost:8080/"
        },
        "id": "7hggvFZ3mkl7",
        "outputId": "1bddddee-9aa9-47da-dfe7-b3bfc2ad12d2"
      },
      "execution_count": 164,
      "outputs": [
        {
          "output_type": "stream",
          "name": "stdout",
          "text": [
            "200  trajectories done\n",
            "Iteration: 1\n",
            "Beta: [-0.04182442  0.28337535]\n",
            "Variance Scope: 0.1449970355058024\n",
            "----------\n",
            "Iteration: 2\n",
            "Beta: [0.03501534 0.15854378]\n",
            "Variance Scope: 0.12902630782358546\n",
            "----------\n",
            "Iteration: 3\n",
            "Beta: [ 0.42167859 -0.46962023]\n",
            "Variance Scope: 0.0924749963173842\n",
            "----------\n",
            "Var SCOPE_phi:  0.10620962200244352\n",
            "Var IS_phi:  0.15946274760524215\n",
            "Percent change in variance:  -33.395339289292416\n",
            "SCOPE results:  {'std_deviation': 0.15043182531039923, 'quartiles': array([-0.5105846 , -0.41700359, -0.30639972]), 'max_value': 0.0391103159666555, 'min_value': -0.8527535898790396}\n",
            "IS results:  {'std_deviation': 0.1866995279574805, 'quartiles': array([-1.84457456, -1.71930555, -1.60012277]), 'max_value': -1.191328549806053, 'min_value': -2.341247034329893}\n",
            "true eval:  0.446\n",
            "400  trajectories done\n",
            "Iteration: 1\n",
            "Beta: [0.01539058 0.03108489]\n",
            "Variance Scope: 0.03554862988138942\n",
            "----------\n",
            "Iteration: 2\n",
            "Beta: [ 0.06022739 -0.03786455]\n",
            "Variance Scope: 0.03314401745022946\n",
            "----------\n",
            "Iteration: 3\n",
            "Beta: [ 0.35183104 -0.48629403]\n",
            "Variance Scope: 0.02588278335736985\n",
            "----------\n",
            "Var SCOPE_phi:  0.027471785016006892\n",
            "Var IS_phi:  0.03704370672129009\n",
            "Percent change in variance:  -25.83953538262395\n",
            "SCOPE results:  {'std_deviation': 0.12435128812983919, 'quartiles': array([-0.48807759, -0.40809986, -0.32952994]), 'max_value': -0.06760723634283511, 'min_value': -0.7695355641535668}\n",
            "IS results:  {'std_deviation': 0.16075135875442842, 'quartiles': array([-1.89569458, -1.79014709, -1.68774635]), 'max_value': -1.3040143548067793, 'min_value': -2.3542119839188453}\n",
            "true eval:  0.314\n",
            "600  trajectories done\n",
            "Iteration: 1\n",
            "Beta: [ 0.24635885 -0.19126773]\n",
            "Variance Scope: 0.14846975301297533\n",
            "----------\n",
            "Iteration: 2\n",
            "Beta: [ 0.25263335 -0.20188272]\n",
            "Variance Scope: 0.14839161152771657\n",
            "----------\n",
            "Iteration: 3\n",
            "Beta: [ 0.29553392 -0.27446192]\n",
            "Variance Scope: 0.14814265644647756\n",
            "----------\n",
            "Var SCOPE_phi:  0.19378481608452228\n",
            "Var IS_phi:  0.31295162222123163\n",
            "Percent change in variance:  -38.07834747457164\n",
            "SCOPE results:  {'std_deviation': 0.13019269439193687, 'quartiles': array([-1.56389129, -1.47532495, -1.37621889]), 'max_value': -1.134391634140759, 'min_value': -1.82413895983285}\n",
            "IS results:  {'std_deviation': 0.1529813518974417, 'quartiles': array([-2.26432161, -2.15506226, -2.05219274]), 'max_value': -1.7197789907384426, 'min_value': -2.5568071965530033}\n",
            "true eval:  0.318\n",
            "800  trajectories done\n",
            "Iteration: 1\n",
            "Beta: [0.42135308 0.27669758]\n",
            "Variance Scope: 0.18339776089543547\n",
            "----------\n",
            "Iteration: 2\n",
            "Beta: [0.10378293 0.08211188]\n",
            "Variance Scope: 0.06748613310504817\n",
            "----------\n",
            "Iteration: 3\n",
            "Beta: [0.14373605 0.00626419]\n",
            "Variance Scope: 0.06526678031951574\n",
            "----------\n",
            "Iteration: 4\n",
            "Beta: [ 0.36242065 -0.36061234]\n",
            "Variance Scope: 0.06018831034609447\n",
            "----------\n",
            "Iteration: 5\n",
            "Beta: [ 0.36382278 -0.36124102]\n",
            "Variance Scope: 0.06018760517949856\n",
            "----------\n",
            "Var SCOPE_phi:  0.05086023748515621\n",
            "Var IS_phi:  0.06628335038524746\n",
            "Percent change in variance:  -23.26845702646308\n",
            "SCOPE results:  {'std_deviation': 0.09277738542966339, 'quartiles': array([-0.76851919, -0.709626  , -0.64619076]), 'max_value': -0.3702517689174196, 'min_value': -1.0009232263040553}\n",
            "IS results:  {'std_deviation': 0.1062077578119959, 'quartiles': array([-1.68174335, -1.6088458 , -1.53504132]), 'max_value': -1.3021016723451344, 'min_value': -1.934495140978267}\n",
            "true eval:  0.402\n",
            "1000  trajectories done\n"
          ]
        }
      ]
    },
    {
      "cell_type": "code",
      "source": [
        "plot_rewards_over_trajectories(env_bad, num_trajectories, behav_policy, eval_policy, 0.3)"
      ],
      "metadata": {
        "colab": {
          "base_uri": "https://localhost:8080/",
          "height": 577
        },
        "id": "F7C9p_TI0tm5",
        "outputId": "31c98cd4-2a26-483e-caaf-786f92ff997f"
      },
      "execution_count": 76,
      "outputs": [
        {
          "output_type": "stream",
          "name": "stdout",
          "text": [
            "200  trajectories done\n",
            "400  trajectories done\n",
            "600  trajectories done\n",
            "800  trajectories done\n",
            "1000  trajectories done\n"
          ]
        },
        {
          "output_type": "display_data",
          "data": {
            "text/plain": [
              "<Figure size 640x480 with 1 Axes>"
            ],
            "image/png": "[encoded data removed]"
          },
          "metadata": {}
        }
      ]
    },
    {
      "cell_type": "markdown",
      "source": [
        "## Single bad region"
      ],
      "metadata": {
        "id": "MnB1-MR9p4mP"
      }
    },
    {
      "cell_type": "code",
      "source": [
        "num_trajectories = [200, 400, 600, 800, 1000]"
      ],
      "metadata": {
        "id": "22V2zzp0lstx"
      },
      "execution_count": 163,
      "outputs": []
    },
    {
      "cell_type": "code",
      "source": [
        "env_bad_one = GridWorld(height, width, start, end, [(2, 2)], [], 0.5, -2, 3 )\n",
        "eval_policy = {\"up\": 0.4, \"down\": 0.1, \"left\": 0.1, \"right\": 0.4}\n",
        "behav_policy = {\"up\": 0.25, \"down\": 0.25, \"left\": 0.25, \"right\": 0.25}"
      ],
      "metadata": {
        "id": "BiUnM1eTHTk6"
      },
      "execution_count": 78,
      "outputs": []
    },
    {
      "cell_type": "code",
      "source": [
        "for i in num_trajectories:\n",
        "  run_experiment(env_bad_one,i ,behav_policy, eval_policy, 0.3)\n",
        "  print(i,\" trajectories done\")"
      ],
      "metadata": {
        "colab": {
          "base_uri": "https://localhost:8080/"
        },
        "id": "7I78rynTvHAX",
        "outputId": "82d500be-4a28-4cb1-899d-5ecf2baf6da8"
      },
      "execution_count": 212,
      "outputs": [
        {
          "output_type": "stream",
          "name": "stdout",
          "text": [
            "Iteration: 1\n",
            "Beta: [-0.04973507]\n",
            "Variance Scope: 0.018989969928276604\n",
            "----------\n",
            "Var SCOPE_phi:  0.020868698126695406\n",
            "Var IS_phi:  0.021951280966924468\n",
            "Percent change in variance:  -4.931752465199026\n",
            "SCOPE results:  {'std_deviation': 0.14450085569686189, 'quartiles': array([-0.62984529, -0.52638903, -0.43341522]), 'max_value': -0.09524971245941706, 'min_value': -0.8905554592015197}\n",
            "IS results:  {'std_deviation': 0.1418548069198576, 'quartiles': array([-0.77785751, -0.6810903 , -0.59055079]), 'max_value': -0.2520653864163582, 'min_value': -1.0427255213522189}\n",
            "true eval:  1.862\n",
            "200  trajectories done\n",
            "Iteration: 1\n",
            "Beta: [0.11602648]\n",
            "Variance Scope: 0.06723500616069068\n",
            "----------\n",
            "Var SCOPE_phi:  0.08315713312155568\n",
            "Var IS_phi:  0.09943635987956832\n",
            "Percent change in variance:  -16.37150311790287\n",
            "SCOPE results:  {'std_deviation': 0.1282095265933588, 'quartiles': array([-1.1320494 , -1.03129478, -0.95132788]), 'max_value': -0.7287495789277596, 'min_value': -1.490669289965689}\n",
            "IS results:  {'std_deviation': 0.11655832319357634, 'quartiles': array([-0.70748875, -0.61916901, -0.54877964]), 'max_value': -0.34885460153247716, 'min_value': -1.0211324821279284}\n",
            "true eval:  1.85\n",
            "400  trajectories done\n",
            "Iteration: 1\n",
            "Beta: [0.06725391]\n",
            "Variance Scope: 0.016973472123999703\n",
            "----------\n",
            "Var SCOPE_phi:  0.018175100188341498\n",
            "Var IS_phi:  0.019762131620346013\n",
            "Percent change in variance:  -8.030669274414677\n",
            "SCOPE results:  {'std_deviation': 0.11446468530974123, 'quartiles': array([-0.93288866, -0.85670498, -0.77582071]), 'max_value': -0.595812161124132, 'min_value': -1.2402241126910354}\n",
            "IS results:  {'std_deviation': 0.10964641991865236, 'quartiles': array([-0.69826139, -0.62070206, -0.54561128]), 'max_value': -0.3661956255082995, 'min_value': -1.0003067712418716}\n",
            "true eval:  1.762\n",
            "600  trajectories done\n",
            "Iteration: 1\n",
            "Beta: [0.21563698]\n",
            "Variance Scope: 0.13904855404053038\n",
            "----------\n",
            "Var SCOPE_phi:  0.19263701001005806\n",
            "Var IS_phi:  0.29508119039079583\n",
            "Percent change in variance:  -34.7172858578563\n",
            "SCOPE results:  {'std_deviation': 0.11830507930511985, 'quartiles': array([-1.63512492, -1.53945234, -1.46419197]), 'max_value': -1.2053891357471496, 'min_value': -1.88664345671862}\n",
            "IS results:  {'std_deviation': 0.10267947902133605, 'quartiles': array([-0.88904621, -0.80970469, -0.74040786]), 'max_value': -0.49292965129441146, 'min_value': -1.1069616269426503}\n",
            "true eval:  1.824\n",
            "800  trajectories done\n",
            "Iteration: 1\n",
            "Beta: [0.18341133]\n",
            "Variance Scope: 0.05285466100385318\n",
            "----------\n",
            "Var SCOPE_phi:  0.042571389229527176\n",
            "Var IS_phi:  0.05028691422475337\n",
            "Percent change in variance:  -15.343007448701801\n",
            "SCOPE results:  {'std_deviation': 0.0832962266387755, 'quartiles': array([-1.23630659, -1.18055759, -1.1262183 ]), 'max_value': -0.949341620134327, 'min_value': -1.4548534817312002}\n",
            "IS results:  {'std_deviation': 0.07029163533753678, 'quartiles': array([-0.59629552, -0.55348737, -0.50317599]), 'max_value': -0.3440070975919775, 'min_value': -0.8269439038913954}\n",
            "true eval:  1.834\n",
            "1000  trajectories done\n"
          ]
        }
      ]
    },
    {
      "cell_type": "code",
      "source": [
        "plot_rewards_over_trajectories(env_bad_one, num_trajectories ,behav_policy, eval_policy, 0.3)"
      ],
      "metadata": {
        "colab": {
          "base_uri": "https://localhost:8080/",
          "height": 577
        },
        "id": "ClBIDUN4OvlC",
        "outputId": "99894f5d-47a0-40e2-a3b4-65c316bb74b4"
      },
      "execution_count": 79,
      "outputs": [
        {
          "output_type": "stream",
          "name": "stdout",
          "text": [
            "200  trajectories done\n",
            "400  trajectories done\n",
            "600  trajectories done\n",
            "800  trajectories done\n",
            "1000  trajectories done\n"
          ]
        },
        {
          "output_type": "display_data",
          "data": {
            "text/plain": [
              "<Figure size 640x480 with 1 Axes>"
            ],
            "image/png": "[encoded data removed]"
          },
          "metadata": {}
        }
      ]
    },
    {
      "cell_type": "markdown",
      "source": [
        "## Two bad regions One good region"
      ],
      "metadata": {
        "id": "5rpywb5srR0U"
      }
    },
    {
      "cell_type": "code",
      "source": [
        "env_2bad_1good = GridWorld(height, width, start, end, [(1, 1), (2, 2)], [(3,3)], 0.5, -2, 3 )\n",
        "eval_policy = {\"up\": 0.36, \"down\": 0.14, \"left\": 0.14, \"right\": 0.36}\n",
        "behav_policy = {\"up\": 0.25, \"down\": 0.25, \"left\": 0.25, \"right\": 0.25}"
      ],
      "metadata": {
        "id": "UkhlDWkEoSbs"
      },
      "execution_count": 80,
      "outputs": []
    },
    {
      "cell_type": "code",
      "source": [
        "run_experiment(env_2bad_1good,200, behav_policy, eval_policy, 0.3)"
      ],
      "metadata": {
        "id": "u-jUlZHHosjR"
      },
      "execution_count": null,
      "outputs": []
    },
    {
      "cell_type": "code",
      "source": [
        "num_trajectories = [200, 400, 600, 800, 1000]"
      ],
      "metadata": {
        "id": "OKdqmhfPqGvx"
      },
      "execution_count": 31,
      "outputs": []
    },
    {
      "cell_type": "code",
      "source": [
        "for i in num_trajectories:\n",
        "  run_experiment(env_2bad_1good,i ,behav_policy, eval_policy, 0.3)\n",
        "  print(i,\" trajectories done\")"
      ],
      "metadata": {
        "colab": {
          "base_uri": "https://localhost:8080/"
        },
        "id": "3rGV9Tz6qE-J",
        "outputId": "cb2d1947-ddb8-4bab-e337-f0e07d89de39"
      },
      "execution_count": 35,
      "outputs": [
        {
          "output_type": "stream",
          "name": "stdout",
          "text": [
            "Iteration: 1\n",
            "Beta: [ 0.26936847  0.24418478 -0.13135848]\n",
            "Variance Scope: 0.11355000414336157\n",
            "----------\n",
            "Iteration: 2\n",
            "Beta: [ 0.17935921  0.27524364 -0.13902985]\n",
            "Variance Scope: 0.09757997095395636\n",
            "----------\n",
            "Iteration: 3\n",
            "Beta: [-0.11066584  0.37218671 -0.15931714]\n",
            "Variance Scope: 0.07541270476310226\n",
            "----------\n",
            "Iteration: 4\n",
            "Beta: [-0.11744076  0.35983304 -0.13910913]\n",
            "Variance Scope: 0.07536247323110924\n",
            "----------\n",
            "Iteration: 5\n",
            "Beta: [-0.13101001  0.33242693 -0.09488484]\n",
            "Variance Scope: 0.07531777435219121\n",
            "----------\n",
            "Var SCOPE_phi:  0.08902138278335116\n",
            "Var IS_phi:  0.14048159529280713\n",
            "Percent change in variance:  -36.63128426339191\n",
            "SCOPE results:  {'std_deviation': 0.16476672964322422, 'quartiles': array([-0.85525551, -0.7351853 , -0.63260107]), 'max_value': -0.28988122545184586, 'min_value': -1.200741774149905}\n",
            "IS results:  {'std_deviation': 0.19171294333101496, 'quartiles': array([-1.56423915, -1.43010383, -1.31407239]), 'max_value': -0.947782831830442, 'min_value': -1.9790808157205657}\n",
            "true eval:  0.1665\n",
            "200  trajectories done\n",
            "Iteration: 1\n",
            "Beta: [0.01190628 0.40119407 0.31915214]\n",
            "Variance Scope: 0.21995265132837283\n",
            "----------\n",
            "Iteration: 2\n",
            "Beta: [-0.11568056  0.05531391  0.08513639]\n",
            "Variance Scope: 0.06766523869137828\n",
            "----------\n",
            "Iteration: 3\n",
            "Beta: [-0.10815029  0.11729719 -0.0279796 ]\n",
            "Variance Scope: 0.06311312542033354\n",
            "----------\n",
            "Iteration: 4\n",
            "Beta: [ 0.06923559  0.34696843 -0.48119683]\n",
            "Variance Scope: 0.05399250265703203\n",
            "----------\n",
            "Iteration: 5\n",
            "Beta: [ 0.10892165  0.35794932 -0.50486591]\n",
            "Variance Scope: 0.05390907584876208\n",
            "----------\n",
            "Iteration: 6\n",
            "Beta: [ 0.09457688  0.36401604 -0.50393114]\n",
            "Variance Scope: 0.0538624368462562\n",
            "----------\n",
            "Iteration: 7\n",
            "Beta: [ 0.0943646   0.36562911 -0.50536255]\n",
            "Variance Scope: 0.053861956639493495\n",
            "----------\n",
            "Var SCOPE_phi:  0.06058628915834347\n",
            "Var IS_phi:  0.08028901892290152\n",
            "Percent change in variance:  -24.539756530688\n",
            "SCOPE results:  {'std_deviation': 0.13483488725984258, 'quartiles': array([-1.01577652, -0.91692721, -0.82392592]), 'max_value': -0.441757158758473, 'min_value': -1.3843863654355864}\n",
            "IS results:  {'std_deviation': 0.15558959422715743, 'quartiles': array([-1.83138006, -1.71630304, -1.60790034]), 'max_value': -1.1951071943103326, 'min_value': -2.2781820849156844}\n",
            "true eval:  0.2385\n",
            "400  trajectories done\n",
            "Iteration: 1\n",
            "Beta: [-0.25316805 -0.0056775   0.21560814]\n",
            "Variance Scope: 0.030911930862074683\n",
            "----------\n",
            "Iteration: 2\n",
            "Beta: [-0.26046328  0.00996807  0.19724013]\n",
            "Variance Scope: 0.030203104389771303\n",
            "----------\n",
            "Iteration: 3\n",
            "Beta: [-0.24866345  0.17182416 -0.05085467]\n",
            "Variance Scope: 0.025503399964952177\n",
            "----------\n",
            "Iteration: 4\n",
            "Beta: [-0.16204941  0.24913772 -0.22325068]\n",
            "Variance Scope: 0.023643131524741647\n",
            "----------\n",
            "Iteration: 5\n",
            "Beta: [-0.01641536  0.28648691 -0.37560269]\n",
            "Variance Scope: 0.022703062362174353\n",
            "----------\n",
            "Iteration: 6\n",
            "Beta: [-0.02968311  0.29216092 -0.37519538]\n",
            "Variance Scope: 0.0226781619522606\n",
            "----------\n",
            "Iteration: 7\n",
            "Beta: [-0.02950702  0.29322724 -0.3768952 ]\n",
            "Variance Scope: 0.0226780313561607\n",
            "----------\n",
            "Var SCOPE_phi:  0.025520944065163965\n",
            "Var IS_phi:  0.0326523903062661\n",
            "Percent change in variance:  -21.840502867361558\n",
            "SCOPE results:  {'std_deviation': 0.09975619644366848, 'quartiles': array([-0.58941206, -0.52857142, -0.45850226]), 'max_value': -0.18660654385117623, 'min_value': -0.8229311732849232}\n",
            "IS results:  {'std_deviation': 0.12108629061005974, 'quartiles': array([-1.74215299, -1.66039433, -1.58136165]), 'max_value': -1.2943451462165574, 'min_value': -1.9911178455797958}\n",
            "true eval:  0.0665\n",
            "600  trajectories done\n",
            "Iteration: 1\n",
            "Beta: [-0.03418859  0.40586216 -0.47070696]\n",
            "Variance Scope: 0.04423315006177198\n",
            "----------\n",
            "Iteration: 2\n",
            "Beta: [ 0.05400372  0.36222897 -0.46246784]\n",
            "Variance Scope: 0.04011953425124262\n",
            "----------\n",
            "Iteration: 3\n",
            "Beta: [ 0.17636896  0.30819386 -0.46139542]\n",
            "Variance Scope: 0.03807490120870486\n",
            "----------\n",
            "Iteration: 4\n",
            "Beta: [ 0.18069141  0.31198545 -0.47043606]\n",
            "Variance Scope: 0.038049588628488194\n",
            "----------\n",
            "Iteration: 5\n",
            "Beta: [ 0.21041106  0.34799374 -0.54842553]\n",
            "Variance Scope: 0.037946773888076886\n",
            "----------\n",
            "Iteration: 6\n",
            "Beta: [ 0.210297    0.34811106 -0.54853229]\n",
            "Variance Scope: 0.03794677049061873\n",
            "----------\n",
            "Var SCOPE_phi:  0.04264164964131212\n",
            "Var IS_phi:  0.05964538332512204\n",
            "Percent change in variance:  -28.50804661799888\n",
            "SCOPE results:  {'std_deviation': 0.12589843168662834, 'quartiles': array([-1.85735934, -1.77465904, -1.69213065]), 'max_value': -1.3609549101016545, 'min_value': -2.152032794778515}\n",
            "IS results:  {'std_deviation': 0.1341162431496204, 'quartiles': array([-2.14620888, -2.06776609, -1.97890432]), 'max_value': -1.6401353364606295, 'min_value': -2.4766357009291435}\n",
            "true eval:  -0.107\n",
            "800  trajectories done\n",
            "Iteration: 1\n",
            "Beta: [-0.30989904  0.27518482 -0.05963573]\n",
            "Variance Scope: 0.025550453372540766\n",
            "----------\n",
            "Iteration: 2\n",
            "Beta: [-0.25749543  0.23952814 -0.05434615]\n",
            "Variance Scope: 0.023747599355618633\n",
            "----------\n",
            "Iteration: 3\n",
            "Beta: [-0.11919172  0.15555811 -0.0561122 ]\n",
            "Variance Scope: 0.021820579922608288\n",
            "----------\n",
            "Iteration: 4\n",
            "Beta: [-0.11188729  0.15960257 -0.06936008]\n",
            "Variance Scope: 0.02178825286734348\n",
            "----------\n",
            "Iteration: 5\n",
            "Beta: [-0.07375935  0.19131508 -0.15496133]\n",
            "Variance Scope: 0.02169164575694667\n",
            "----------\n",
            "Iteration: 6\n",
            "Beta: [-0.07386817  0.19145558 -0.15507545]\n",
            "Variance Scope: 0.02169164303011233\n",
            "----------\n",
            "Var SCOPE_phi:  0.022523381212577673\n",
            "Var IS_phi:  0.028300831525035486\n",
            "Percent change in variance:  -20.414418945065144\n",
            "SCOPE results:  {'std_deviation': 0.07532744418153428, 'quartiles': array([-0.90005113, -0.85399503, -0.80440424]), 'max_value': -0.6414850263947475, 'min_value': -1.0997346395360261}\n",
            "IS results:  {'std_deviation': 0.08739409556554889, 'quartiles': array([-1.64579525, -1.59426397, -1.52867479]), 'max_value': -1.3236431792447556, 'min_value': -1.8815994555305366}\n",
            "true eval:  -0.0085\n",
            "1000  trajectories done\n"
          ]
        }
      ]
    },
    {
      "cell_type": "code",
      "source": [
        "plot_rewards_over_trajectories(env_2bad_1good, num_trajectories, behav_policy, eval_policy, 0.3)"
      ],
      "metadata": {
        "colab": {
          "base_uri": "https://localhost:8080/",
          "height": 577
        },
        "id": "U34jzCs0z-WR",
        "outputId": "a50adf9d-1f51-4241-bc94-a1de8da3102c"
      },
      "execution_count": 81,
      "outputs": [
        {
          "output_type": "stream",
          "name": "stdout",
          "text": [
            "200  trajectories done\n",
            "400  trajectories done\n",
            "600  trajectories done\n",
            "800  trajectories done\n",
            "1000  trajectories done\n"
          ]
        },
        {
          "output_type": "display_data",
          "data": {
            "text/plain": [
              "<Figure size 640x480 with 1 Axes>"
            ],
            "image/png": "[encoded data removed]"
          },
          "metadata": {}
        }
      ]
    },
    {
      "cell_type": "markdown",
      "source": [
        "## Two bad regions One good region similar policies"
      ],
      "metadata": {
        "id": "16UtIx9D_Qn4"
      }
    },
    {
      "cell_type": "code",
      "source": [
        "env_2bad_1good_similar = GridWorld(height, width, start, end, [(1, 1), (2, 2)], [(3,3)], 0.5, -2, 3 )\n",
        "behav_policy = {\"up\": 0.36, \"down\": 0.14, \"left\": 0.14, \"right\": 0.36}\n",
        "eval_policy = {\"up\": 0.4, \"down\": 0.1, \"left\": 0.1, \"right\": 0.4}"
      ],
      "metadata": {
        "id": "Or090tX85xBm"
      },
      "execution_count": 82,
      "outputs": []
    },
    {
      "cell_type": "code",
      "source": [
        "for i in num_trajectories:\n",
        "  run_experiment(env_2bad_1good_similar,i ,behav_policy, eval_policy, 0.3)\n",
        "  print(i,\" trajectories done\")"
      ],
      "metadata": {
        "colab": {
          "base_uri": "https://localhost:8080/"
        },
        "id": "m9osZRpc6TuE",
        "outputId": "6c602b65-7f34-48ce-be57-3acc5e02d89c"
      },
      "execution_count": 53,
      "outputs": [
        {
          "output_type": "stream",
          "name": "stdout",
          "text": [
            "Iteration: 1\n",
            "Beta: [ 0.30143726 -0.06019801  0.05688463]\n",
            "Variance Scope: 0.05336077762322047\n",
            "----------\n",
            "Iteration: 2\n",
            "Beta: [ 0.26478906 -0.02971116  0.04379661]\n",
            "Variance Scope: 0.05247084306955816\n",
            "----------\n",
            "Iteration: 3\n",
            "Beta: [ 0.13073205  0.1236133  -0.06288369]\n",
            "Variance Scope: 0.050514952849214666\n",
            "----------\n",
            "Iteration: 4\n",
            "Beta: [ 0.14055579  0.16232143 -0.12532001]\n",
            "Variance Scope: 0.050219185966840586\n",
            "----------\n",
            "Iteration: 5\n",
            "Beta: [ 0.34975277  0.52122925 -0.80026683]\n",
            "Variance Scope: 0.04819615515703848\n",
            "----------\n",
            "Iteration: 6\n",
            "Beta: [ 0.48981108  0.62337185 -1.0578198 ]\n",
            "Variance Scope: 0.04777702772954364\n",
            "----------\n",
            "Iteration: 7\n",
            "Beta: [ 0.5169212   0.62628667 -1.08396087]\n",
            "Variance Scope: 0.04775633741557941\n",
            "----------\n",
            "Iteration: 8\n",
            "Beta: [ 0.51665659  0.62345256 -1.07975931]\n",
            "Variance Scope: 0.04775618014246681\n",
            "----------\n",
            "Var SCOPE_phi:  0.049685243621990775\n",
            "Var IS_phi:  0.055655778345727436\n",
            "Percent change in variance:  -10.727609785004478\n",
            "SCOPE results:  {'std_deviation': 0.1250541748161771, 'quartiles': array([-1.61238736, -1.52486795, -1.4480365 ]), 'max_value': -1.1881316412768814, 'min_value': -1.8696155669895302}\n",
            "IS results:  {'std_deviation': 0.12616951471807464, 'quartiles': array([-1.67631845, -1.58813682, -1.51216065]), 'max_value': -1.228307705585125, 'min_value': -1.961065899993513}\n",
            "true eval:  0.7695\n",
            "200  trajectories done\n",
            "Iteration: 1\n",
            "Beta: [ 0.43795986 -0.06765742  0.04947229]\n",
            "Variance Scope: 0.030268353321481183\n",
            "----------\n",
            "Iteration: 2\n",
            "Beta: [ 0.27116014  0.03753838 -0.03085799]\n",
            "Variance Scope: 0.027302954879885287\n",
            "----------\n",
            "Iteration: 3\n",
            "Beta: [ 0.08902273  0.18039661 -0.16800928]\n",
            "Variance Scope: 0.02591672121587709\n",
            "----------\n",
            "Iteration: 4\n",
            "Beta: [ 0.15580429  0.28473963 -0.39452127]\n",
            "Variance Scope: 0.025463842078351524\n",
            "----------\n",
            "Iteration: 5\n",
            "Beta: [ 0.44820127  0.51029363 -0.97776329]\n",
            "Variance Scope: 0.024685313500991547\n",
            "----------\n",
            "Iteration: 6\n",
            "Beta: [ 0.61636936  0.56622648 -1.18287672]\n",
            "Variance Scope: 0.02453762182559907\n",
            "----------\n",
            "Iteration: 7\n",
            "Beta: [ 0.61746777  0.56591554 -1.18302227]\n",
            "Variance Scope: 0.024537598688935548\n",
            "----------\n",
            "Var SCOPE_phi:  0.021469154396615165\n",
            "Var IS_phi:  0.02450822371768896\n",
            "Percent change in variance:  -12.40020229977062\n",
            "SCOPE results:  {'std_deviation': 0.0930570223492248, 'quartiles': array([-1.82507235, -1.75614715, -1.6978242 ]), 'max_value': -1.5317908548998016, 'min_value': -2.0519473655245974}\n",
            "IS results:  {'std_deviation': 0.0902805284247531, 'quartiles': array([-1.69228407, -1.62438773, -1.56289741]), 'max_value': -1.3931142773469496, 'min_value': -1.928760949651512}\n",
            "true eval:  0.8025\n",
            "400  trajectories done\n",
            "Iteration: 1\n",
            "Beta: [0.45727544 0.05768753 0.00711771]\n",
            "Variance Scope: 0.019769562224358044\n",
            "----------\n",
            "Iteration: 2\n",
            "Beta: [ 0.16659783 -0.0129361  -0.17314365]\n",
            "Variance Scope: 0.016947277633563428\n",
            "----------\n",
            "Iteration: 3\n",
            "Beta: [ 0.14624004  0.10122839 -0.12931547]\n",
            "Variance Scope: 0.01648799067449653\n",
            "----------\n",
            "Iteration: 4\n",
            "Beta: [ 0.14922124  0.14708599 -0.16060876]\n",
            "Variance Scope: 0.016351847846003364\n",
            "----------\n",
            "Iteration: 5\n",
            "Beta: [ 0.25004243  0.41122431 -0.48771843]\n",
            "Variance Scope: 0.015554739595744091\n",
            "----------\n",
            "Iteration: 6\n",
            "Beta: [ 0.45884261  0.71778595 -1.04162177]\n",
            "Variance Scope: 0.014680920275382007\n",
            "----------\n",
            "Iteration: 7\n",
            "Beta: [ 0.73600496  0.92741408 -1.65535609]\n",
            "Variance Scope: 0.014023053849227663\n",
            "----------\n",
            "Iteration: 8\n",
            "Beta: [ 0.7573331   0.94327921 -1.77428943]\n",
            "Variance Scope: 0.013964851101429941\n",
            "----------\n",
            "Iteration: 9\n",
            "Beta: [ 0.77267242  0.9192789  -1.75445912]\n",
            "Variance Scope: 0.013953869354303065\n",
            "----------\n",
            "Iteration: 10\n",
            "Beta: [ 0.77093059  0.91214108 -1.74515169]\n",
            "Variance Scope: 0.013953644666164177\n",
            "----------\n",
            "Var SCOPE_phi:  0.013878915458299333\n",
            "Var IS_phi:  0.016636363228034967\n",
            "Percent change in variance:  -16.5748230664313\n",
            "SCOPE results:  {'std_deviation': 0.07105377143467316, 'quartiles': array([-1.10312594, -1.05900387, -1.00672648]), 'max_value': -0.8529602029032011, 'min_value': -1.2688920411914602}\n",
            "IS results:  {'std_deviation': 0.07347591954985837, 'quartiles': array([-1.67462912, -1.62414002, -1.56839239]), 'max_value': -1.4257370299783196, 'min_value': -1.8088522170761394}\n",
            "true eval:  0.6845\n",
            "600  trajectories done\n",
            "Iteration: 1\n",
            "Beta: [-0.07889061  0.50493729 -0.29210466]\n",
            "Variance Scope: 0.009784325842939354\n",
            "----------\n",
            "Iteration: 2\n",
            "Beta: [-0.00545658  0.4379774  -0.31479735]\n",
            "Variance Scope: 0.009238909990785828\n",
            "----------\n",
            "Iteration: 3\n",
            "Beta: [ 0.18256554  0.28740393 -0.39632723]\n",
            "Variance Scope: 0.008662264260913658\n",
            "----------\n",
            "Iteration: 4\n",
            "Beta: [ 0.24766471  0.33324489 -0.53450806]\n",
            "Variance Scope: 0.00855589855414607\n",
            "----------\n",
            "Iteration: 5\n",
            "Beta: [ 0.41131643  0.55495437 -1.00136294]\n",
            "Variance Scope: 0.008354951318374711\n",
            "----------\n",
            "Iteration: 6\n",
            "Beta: [ 0.41651293  0.611726   -1.07199303]\n",
            "Variance Scope: 0.008342802854611623\n",
            "----------\n",
            "Var SCOPE_phi:  0.009962780899014314\n",
            "Var IS_phi:  0.012420091544498413\n",
            "Percent change in variance:  -19.784964037343077\n",
            "SCOPE results:  {'std_deviation': 0.06260466891039546, 'quartiles': array([-1.12560044, -1.07787174, -1.03807285]), 'max_value': -0.8871359293186195, 'min_value': -1.2597193198462828}\n",
            "IS results:  {'std_deviation': 0.06517227105305953, 'quartiles': array([-1.740704  , -1.68974432, -1.65308726]), 'max_value': -1.496250984149161, 'min_value': -1.8894183476002926}\n",
            "true eval:  0.694\n",
            "800  trajectories done\n",
            "Iteration: 1\n",
            "Beta: [-0.1335227  -0.06026327  0.53745933]\n",
            "Variance Scope: 0.01367900310334797\n",
            "----------\n",
            "Iteration: 2\n",
            "Beta: [-0.1775176   0.07535543  0.37695803]\n",
            "Variance Scope: 0.013179423405185648\n",
            "----------\n",
            "Iteration: 3\n",
            "Beta: [-0.07648826  0.39480666 -0.18240993]\n",
            "Variance Scope: 0.012126742084980602\n",
            "----------\n",
            "Iteration: 4\n",
            "Beta: [ 0.36433966  0.90057379 -1.31676866]\n",
            "Variance Scope: 0.010610387923965788\n",
            "----------\n",
            "Iteration: 5\n",
            "Beta: [ 1.04705823  1.18734993 -2.34317473]\n",
            "Variance Scope: 0.00975095672876368\n",
            "----------\n",
            "Iteration: 6\n",
            "Beta: [ 1.00602646  1.19112512 -2.31250908]\n",
            "Variance Scope: 0.009743086926418744\n",
            "----------\n",
            "Iteration: 7\n",
            "Beta: [ 1.00703966  1.19428982 -2.31806044]\n",
            "Variance Scope: 0.009743049694846823\n",
            "----------\n",
            "Var SCOPE_phi:  0.009051693973279096\n",
            "Var IS_phi:  0.010884446027253691\n",
            "Percent change in variance:  -16.83826672837135\n",
            "SCOPE results:  {'std_deviation': 0.05973578591368224, 'quartiles': array([-0.85282222, -0.81286225, -0.7677219 ]), 'max_value': -0.6224104166121353, 'min_value': -0.9778394394733737}\n",
            "IS results:  {'std_deviation': 0.060889831460804955, 'quartiles': array([-1.69279694, -1.65360034, -1.60872362]), 'max_value': -1.4789824069950597, 'min_value': -1.8261457884448498}\n",
            "true eval:  0.765\n",
            "1000  trajectories done\n"
          ]
        }
      ]
    },
    {
      "cell_type": "code",
      "source": [
        "plot_rewards_over_trajectories(env_2bad_1good_similar, num_trajectories, behav_policy, eval_policy, 0.3)"
      ],
      "metadata": {
        "colab": {
          "base_uri": "https://localhost:8080/",
          "height": 577
        },
        "id": "2pvXHlc88vQn",
        "outputId": "e18620bf-7e33-4792-aa18-2909f9bf26b5"
      },
      "execution_count": 83,
      "outputs": [
        {
          "output_type": "stream",
          "name": "stdout",
          "text": [
            "200  trajectories done\n",
            "400  trajectories done\n",
            "600  trajectories done\n",
            "800  trajectories done\n",
            "1000  trajectories done\n"
          ]
        },
        {
          "output_type": "display_data",
          "data": {
            "text/plain": [
              "<Figure size 640x480 with 1 Axes>"
            ],
            "image/png": "[encoded data removed]"
          },
          "metadata": {}
        }
      ]
    }
  ],
  "metadata": {
    "colab": {
      "machine_shape": "hm",
      "toc_visible": true,
      "provenance": [],
      "mount_file_id": "1a5flZoQjOkTZjFEypNSUDSYrb4OqfV-Y",
      "authorship_tag": "ABX9TyPrbAvCwnCFexhDoA5BsA1t",
      "include_colab_link": true
    },
    "kernelspec": {
      "display_name": "Python 3",
      "name": "python3"
    },
    "language_info": {
      "name": "python"
    }
  },
  "nbformat": 4,
  "nbformat_minor": 0
}